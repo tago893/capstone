{
  "nbformat": 4,
  "nbformat_minor": 0,
  "metadata": {
    "colab": {
      "provenance": [],
      "toc_visible": true,
      "authorship_tag": "ABX9TyOBGLRtsQsUrwpq9X09ctb3",
      "include_colab_link": true
    },
    "kernelspec": {
      "name": "python3",
      "display_name": "Python 3"
    },
    "language_info": {
      "name": "python"
    }
  },
  "cells": [
    {
      "cell_type": "markdown",
      "metadata": {
        "id": "view-in-github",
        "colab_type": "text"
      },
      "source": [
        "<a href=\"https://colab.research.google.com/github/tago893/capstone/blob/main/models/Arima_tested_daily_code2.ipynb\" target=\"_parent\"><img src=\"https://colab.research.google.com/assets/colab-badge.svg\" alt=\"Open In Colab\"/></a>"
      ]
    },
    {
      "cell_type": "markdown",
      "source": [
        "# Ethereum Predictions with ARIMA\n",
        "\n",
        "## Contents:\n",
        "* [Monthly Forecasting](#monthlyForecasting)\n",
        "    * [Stationarity check and Seasonal decomposition](#StationarityCheck)\n",
        "    * [Transformation](#Transformation)\n",
        "    * [Differencing](#Differencing)\n",
        "        * [Seasonal differentiation](#SeasonalDifferentiation\")\n",
        "        * [Regular differentiation](#RegularDifferentiation\")\n",
        "    * [Autocorrelation](#Autocorrelation\")\n",
        "    * [ARIMAModel](#ARIMAModel\")\n",
        "        * [Analysis of Results](#AnalysisARIMA\")\n",
        "        * [PredictionARIMA](#PredictionARIMA\")"
      ],
      "metadata": {
        "id": "hYPr05l2jfzm"
      }
    },
    {
      "cell_type": "code",
      "execution_count": 44,
      "metadata": {
        "colab": {
          "base_uri": "https://localhost:8080/"
        },
        "id": "BRDviWQw5jwc",
        "outputId": "b4f5e177-dfa9-4c12-881d-93d8e4a49b5e"
      },
      "outputs": [
        {
          "output_type": "stream",
          "name": "stdout",
          "text": [
            "Looking in indexes: https://pypi.org/simple, https://us-python.pkg.dev/colab-wheels/public/simple/\n",
            "Requirement already satisfied: pandas-datareader in /usr/local/lib/python3.8/dist-packages (0.9.0)\n",
            "Requirement already satisfied: pandas>=0.23 in /usr/local/lib/python3.8/dist-packages (from pandas-datareader) (1.3.5)\n",
            "Requirement already satisfied: requests>=2.19.0 in /usr/local/lib/python3.8/dist-packages (from pandas-datareader) (2.28.2)\n",
            "Requirement already satisfied: lxml in /usr/local/lib/python3.8/dist-packages (from pandas-datareader) (4.9.2)\n",
            "Requirement already satisfied: python-dateutil>=2.7.3 in /usr/local/lib/python3.8/dist-packages (from pandas>=0.23->pandas-datareader) (2.8.2)\n",
            "Requirement already satisfied: numpy>=1.17.3 in /usr/local/lib/python3.8/dist-packages (from pandas>=0.23->pandas-datareader) (1.22.4)\n",
            "Requirement already satisfied: pytz>=2017.3 in /usr/local/lib/python3.8/dist-packages (from pandas>=0.23->pandas-datareader) (2022.7.1)\n",
            "Requirement already satisfied: charset-normalizer<4,>=2 in /usr/local/lib/python3.8/dist-packages (from requests>=2.19.0->pandas-datareader) (3.0.1)\n",
            "Requirement already satisfied: urllib3<1.27,>=1.21.1 in /usr/local/lib/python3.8/dist-packages (from requests>=2.19.0->pandas-datareader) (1.26.14)\n",
            "Requirement already satisfied: idna<4,>=2.5 in /usr/local/lib/python3.8/dist-packages (from requests>=2.19.0->pandas-datareader) (2.10)\n",
            "Requirement already satisfied: certifi>=2017.4.17 in /usr/local/lib/python3.8/dist-packages (from requests>=2.19.0->pandas-datareader) (2022.12.7)\n",
            "Requirement already satisfied: six>=1.5 in /usr/local/lib/python3.8/dist-packages (from python-dateutil>=2.7.3->pandas>=0.23->pandas-datareader) (1.15.0)\n",
            "Looking in indexes: https://pypi.org/simple, https://us-python.pkg.dev/colab-wheels/public/simple/\n",
            "Requirement already satisfied: yfinance in /usr/local/lib/python3.8/dist-packages (0.2.12)\n",
            "Requirement already satisfied: beautifulsoup4>=4.11.1 in /usr/local/lib/python3.8/dist-packages (from yfinance) (4.11.2)\n",
            "Requirement already satisfied: requests>=2.26 in /usr/local/lib/python3.8/dist-packages (from yfinance) (2.28.2)\n",
            "Requirement already satisfied: cryptography>=3.3.2 in /usr/local/lib/python3.8/dist-packages (from yfinance) (39.0.2)\n",
            "Requirement already satisfied: html5lib>=1.1 in /usr/local/lib/python3.8/dist-packages (from yfinance) (1.1)\n",
            "Requirement already satisfied: pytz>=2022.5 in /usr/local/lib/python3.8/dist-packages (from yfinance) (2022.7.1)\n",
            "Requirement already satisfied: multitasking>=0.0.7 in /usr/local/lib/python3.8/dist-packages (from yfinance) (0.0.11)\n",
            "Requirement already satisfied: lxml>=4.9.1 in /usr/local/lib/python3.8/dist-packages (from yfinance) (4.9.2)\n",
            "Requirement already satisfied: pandas>=1.3.0 in /usr/local/lib/python3.8/dist-packages (from yfinance) (1.3.5)\n",
            "Requirement already satisfied: numpy>=1.16.5 in /usr/local/lib/python3.8/dist-packages (from yfinance) (1.22.4)\n",
            "Requirement already satisfied: frozendict>=2.3.4 in /usr/local/lib/python3.8/dist-packages (from yfinance) (2.3.5)\n",
            "Requirement already satisfied: appdirs>=1.4.4 in /usr/local/lib/python3.8/dist-packages (from yfinance) (1.4.4)\n",
            "Requirement already satisfied: soupsieve>1.2 in /usr/local/lib/python3.8/dist-packages (from beautifulsoup4>=4.11.1->yfinance) (2.4)\n",
            "Requirement already satisfied: cffi>=1.12 in /usr/local/lib/python3.8/dist-packages (from cryptography>=3.3.2->yfinance) (1.15.1)\n",
            "Requirement already satisfied: webencodings in /usr/local/lib/python3.8/dist-packages (from html5lib>=1.1->yfinance) (0.5.1)\n",
            "Requirement already satisfied: six>=1.9 in /usr/local/lib/python3.8/dist-packages (from html5lib>=1.1->yfinance) (1.15.0)\n",
            "Requirement already satisfied: python-dateutil>=2.7.3 in /usr/local/lib/python3.8/dist-packages (from pandas>=1.3.0->yfinance) (2.8.2)\n",
            "Requirement already satisfied: charset-normalizer<4,>=2 in /usr/local/lib/python3.8/dist-packages (from requests>=2.26->yfinance) (3.0.1)\n",
            "Requirement already satisfied: urllib3<1.27,>=1.21.1 in /usr/local/lib/python3.8/dist-packages (from requests>=2.26->yfinance) (1.26.14)\n",
            "Requirement already satisfied: certifi>=2017.4.17 in /usr/local/lib/python3.8/dist-packages (from requests>=2.26->yfinance) (2022.12.7)\n",
            "Requirement already satisfied: idna<4,>=2.5 in /usr/local/lib/python3.8/dist-packages (from requests>=2.26->yfinance) (2.10)\n",
            "Requirement already satisfied: pycparser in /usr/local/lib/python3.8/dist-packages (from cffi>=1.12->cryptography>=3.3.2->yfinance) (2.21)\n"
          ]
        }
      ],
      "source": [
        "!pip install pandas-datareader\n",
        "!pip install yfinance --upgrade --no-cache-dir"
      ]
    },
    {
      "cell_type": "code",
      "source": [
        "import pandas_datareader as pdr\n",
        "import pandas as pd\n",
        "import numpy as np\n",
        "from datetime import datetime\n",
        "from scipy import stats"
      ],
      "metadata": {
        "id": "gvjBprlM5ug1"
      },
      "execution_count": 45,
      "outputs": []
    },
    {
      "cell_type": "code",
      "source": [
        "dateparse = lambda dates: pd.datetime.strptime(dates, '%Y-%m-%d')"
      ],
      "metadata": {
        "id": "mVFbdRsA-tnm"
      },
      "execution_count": 46,
      "outputs": []
    },
    {
      "cell_type": "code",
      "source": [
        "from pandas_datareader import data as pdr\n",
        "import yfinance as yf\n",
        "yf.pdr_override() \n",
        "\n",
        "# download dataframe\n",
        "data = pdr.get_data_yahoo(\"ETH-USD\")"
      ],
      "metadata": {
        "colab": {
          "base_uri": "https://localhost:8080/"
        },
        "id": "rNDkzas_6I83",
        "outputId": "0fe2fbb2-756d-4848-d1b9-8f36b6b9b7f4"
      },
      "execution_count": 47,
      "outputs": [
        {
          "output_type": "stream",
          "name": "stdout",
          "text": [
            "\r[*********************100%***********************]  1 of 1 completed\n"
          ]
        }
      ]
    },
    {
      "cell_type": "code",
      "source": [
        "data"
      ],
      "metadata": {
        "colab": {
          "base_uri": "https://localhost:8080/",
          "height": 455
        },
        "id": "YJ835FW7_MCo",
        "outputId": "a49053fa-e314-4bf0-ace5-3da9b4bb1001"
      },
      "execution_count": 48,
      "outputs": [
        {
          "output_type": "execute_result",
          "data": {
            "text/plain": [
              "                   Open         High          Low        Close    Adj Close  \\\n",
              "Date                                                                          \n",
              "2017-11-09   308.644989   329.451996   307.056000   320.884003   320.884003   \n",
              "2017-11-10   320.670990   324.717987   294.541992   299.252991   299.252991   \n",
              "2017-11-11   298.585999   319.453003   298.191986   314.681000   314.681000   \n",
              "2017-11-12   314.690002   319.153015   298.513000   307.907990   307.907990   \n",
              "2017-11-13   307.024994   328.415009   307.024994   316.716003   316.716003   \n",
              "...                 ...          ...          ...          ...          ...   \n",
              "2023-02-28  1634.502441  1644.435791  1602.428101  1605.895142  1605.895142   \n",
              "2023-03-01  1606.040405  1663.433716  1601.548584  1663.433716  1663.433716   \n",
              "2023-03-02  1663.549072  1672.051147  1622.599976  1647.319336  1647.319336   \n",
              "2023-03-03  1647.557739  1648.475342  1552.451538  1569.167603  1569.167603   \n",
              "2023-03-04  1569.558594  1575.361938  1566.522339  1569.268066  1569.268066   \n",
              "\n",
              "                Volume  \n",
              "Date                    \n",
              "2017-11-09   893249984  \n",
              "2017-11-10   885985984  \n",
              "2017-11-11   842300992  \n",
              "2017-11-12  1613479936  \n",
              "2017-11-13  1041889984  \n",
              "...                ...  \n",
              "2023-02-28  6323676957  \n",
              "2023-03-01  7701847224  \n",
              "2023-03-02  7080950926  \n",
              "2023-03-03  9922240199  \n",
              "2023-03-04  6020410880  \n",
              "\n",
              "[1942 rows x 6 columns]"
            ],
            "text/html": [
              "\n",
              "  <div id=\"df-2b97b15d-4352-436d-b63b-46031be9b389\">\n",
              "    <div class=\"colab-df-container\">\n",
              "      <div>\n",
              "<style scoped>\n",
              "    .dataframe tbody tr th:only-of-type {\n",
              "        vertical-align: middle;\n",
              "    }\n",
              "\n",
              "    .dataframe tbody tr th {\n",
              "        vertical-align: top;\n",
              "    }\n",
              "\n",
              "    .dataframe thead th {\n",
              "        text-align: right;\n",
              "    }\n",
              "</style>\n",
              "<table border=\"1\" class=\"dataframe\">\n",
              "  <thead>\n",
              "    <tr style=\"text-align: right;\">\n",
              "      <th></th>\n",
              "      <th>Open</th>\n",
              "      <th>High</th>\n",
              "      <th>Low</th>\n",
              "      <th>Close</th>\n",
              "      <th>Adj Close</th>\n",
              "      <th>Volume</th>\n",
              "    </tr>\n",
              "    <tr>\n",
              "      <th>Date</th>\n",
              "      <th></th>\n",
              "      <th></th>\n",
              "      <th></th>\n",
              "      <th></th>\n",
              "      <th></th>\n",
              "      <th></th>\n",
              "    </tr>\n",
              "  </thead>\n",
              "  <tbody>\n",
              "    <tr>\n",
              "      <th>2017-11-09</th>\n",
              "      <td>308.644989</td>\n",
              "      <td>329.451996</td>\n",
              "      <td>307.056000</td>\n",
              "      <td>320.884003</td>\n",
              "      <td>320.884003</td>\n",
              "      <td>893249984</td>\n",
              "    </tr>\n",
              "    <tr>\n",
              "      <th>2017-11-10</th>\n",
              "      <td>320.670990</td>\n",
              "      <td>324.717987</td>\n",
              "      <td>294.541992</td>\n",
              "      <td>299.252991</td>\n",
              "      <td>299.252991</td>\n",
              "      <td>885985984</td>\n",
              "    </tr>\n",
              "    <tr>\n",
              "      <th>2017-11-11</th>\n",
              "      <td>298.585999</td>\n",
              "      <td>319.453003</td>\n",
              "      <td>298.191986</td>\n",
              "      <td>314.681000</td>\n",
              "      <td>314.681000</td>\n",
              "      <td>842300992</td>\n",
              "    </tr>\n",
              "    <tr>\n",
              "      <th>2017-11-12</th>\n",
              "      <td>314.690002</td>\n",
              "      <td>319.153015</td>\n",
              "      <td>298.513000</td>\n",
              "      <td>307.907990</td>\n",
              "      <td>307.907990</td>\n",
              "      <td>1613479936</td>\n",
              "    </tr>\n",
              "    <tr>\n",
              "      <th>2017-11-13</th>\n",
              "      <td>307.024994</td>\n",
              "      <td>328.415009</td>\n",
              "      <td>307.024994</td>\n",
              "      <td>316.716003</td>\n",
              "      <td>316.716003</td>\n",
              "      <td>1041889984</td>\n",
              "    </tr>\n",
              "    <tr>\n",
              "      <th>...</th>\n",
              "      <td>...</td>\n",
              "      <td>...</td>\n",
              "      <td>...</td>\n",
              "      <td>...</td>\n",
              "      <td>...</td>\n",
              "      <td>...</td>\n",
              "    </tr>\n",
              "    <tr>\n",
              "      <th>2023-02-28</th>\n",
              "      <td>1634.502441</td>\n",
              "      <td>1644.435791</td>\n",
              "      <td>1602.428101</td>\n",
              "      <td>1605.895142</td>\n",
              "      <td>1605.895142</td>\n",
              "      <td>6323676957</td>\n",
              "    </tr>\n",
              "    <tr>\n",
              "      <th>2023-03-01</th>\n",
              "      <td>1606.040405</td>\n",
              "      <td>1663.433716</td>\n",
              "      <td>1601.548584</td>\n",
              "      <td>1663.433716</td>\n",
              "      <td>1663.433716</td>\n",
              "      <td>7701847224</td>\n",
              "    </tr>\n",
              "    <tr>\n",
              "      <th>2023-03-02</th>\n",
              "      <td>1663.549072</td>\n",
              "      <td>1672.051147</td>\n",
              "      <td>1622.599976</td>\n",
              "      <td>1647.319336</td>\n",
              "      <td>1647.319336</td>\n",
              "      <td>7080950926</td>\n",
              "    </tr>\n",
              "    <tr>\n",
              "      <th>2023-03-03</th>\n",
              "      <td>1647.557739</td>\n",
              "      <td>1648.475342</td>\n",
              "      <td>1552.451538</td>\n",
              "      <td>1569.167603</td>\n",
              "      <td>1569.167603</td>\n",
              "      <td>9922240199</td>\n",
              "    </tr>\n",
              "    <tr>\n",
              "      <th>2023-03-04</th>\n",
              "      <td>1569.558594</td>\n",
              "      <td>1575.361938</td>\n",
              "      <td>1566.522339</td>\n",
              "      <td>1569.268066</td>\n",
              "      <td>1569.268066</td>\n",
              "      <td>6020410880</td>\n",
              "    </tr>\n",
              "  </tbody>\n",
              "</table>\n",
              "<p>1942 rows × 6 columns</p>\n",
              "</div>\n",
              "      <button class=\"colab-df-convert\" onclick=\"convertToInteractive('df-2b97b15d-4352-436d-b63b-46031be9b389')\"\n",
              "              title=\"Convert this dataframe to an interactive table.\"\n",
              "              style=\"display:none;\">\n",
              "        \n",
              "  <svg xmlns=\"http://www.w3.org/2000/svg\" height=\"24px\"viewBox=\"0 0 24 24\"\n",
              "       width=\"24px\">\n",
              "    <path d=\"M0 0h24v24H0V0z\" fill=\"none\"/>\n",
              "    <path d=\"M18.56 5.44l.94 2.06.94-2.06 2.06-.94-2.06-.94-.94-2.06-.94 2.06-2.06.94zm-11 1L8.5 8.5l.94-2.06 2.06-.94-2.06-.94L8.5 2.5l-.94 2.06-2.06.94zm10 10l.94 2.06.94-2.06 2.06-.94-2.06-.94-.94-2.06-.94 2.06-2.06.94z\"/><path d=\"M17.41 7.96l-1.37-1.37c-.4-.4-.92-.59-1.43-.59-.52 0-1.04.2-1.43.59L10.3 9.45l-7.72 7.72c-.78.78-.78 2.05 0 2.83L4 21.41c.39.39.9.59 1.41.59.51 0 1.02-.2 1.41-.59l7.78-7.78 2.81-2.81c.8-.78.8-2.07 0-2.86zM5.41 20L4 18.59l7.72-7.72 1.47 1.35L5.41 20z\"/>\n",
              "  </svg>\n",
              "      </button>\n",
              "      \n",
              "  <style>\n",
              "    .colab-df-container {\n",
              "      display:flex;\n",
              "      flex-wrap:wrap;\n",
              "      gap: 12px;\n",
              "    }\n",
              "\n",
              "    .colab-df-convert {\n",
              "      background-color: #E8F0FE;\n",
              "      border: none;\n",
              "      border-radius: 50%;\n",
              "      cursor: pointer;\n",
              "      display: none;\n",
              "      fill: #1967D2;\n",
              "      height: 32px;\n",
              "      padding: 0 0 0 0;\n",
              "      width: 32px;\n",
              "    }\n",
              "\n",
              "    .colab-df-convert:hover {\n",
              "      background-color: #E2EBFA;\n",
              "      box-shadow: 0px 1px 2px rgba(60, 64, 67, 0.3), 0px 1px 3px 1px rgba(60, 64, 67, 0.15);\n",
              "      fill: #174EA6;\n",
              "    }\n",
              "\n",
              "    [theme=dark] .colab-df-convert {\n",
              "      background-color: #3B4455;\n",
              "      fill: #D2E3FC;\n",
              "    }\n",
              "\n",
              "    [theme=dark] .colab-df-convert:hover {\n",
              "      background-color: #434B5C;\n",
              "      box-shadow: 0px 1px 3px 1px rgba(0, 0, 0, 0.15);\n",
              "      filter: drop-shadow(0px 1px 2px rgba(0, 0, 0, 0.3));\n",
              "      fill: #FFFFFF;\n",
              "    }\n",
              "  </style>\n",
              "\n",
              "      <script>\n",
              "        const buttonEl =\n",
              "          document.querySelector('#df-2b97b15d-4352-436d-b63b-46031be9b389 button.colab-df-convert');\n",
              "        buttonEl.style.display =\n",
              "          google.colab.kernel.accessAllowed ? 'block' : 'none';\n",
              "\n",
              "        async function convertToInteractive(key) {\n",
              "          const element = document.querySelector('#df-2b97b15d-4352-436d-b63b-46031be9b389');\n",
              "          const dataTable =\n",
              "            await google.colab.kernel.invokeFunction('convertToInteractive',\n",
              "                                                     [key], {});\n",
              "          if (!dataTable) return;\n",
              "\n",
              "          const docLinkHtml = 'Like what you see? Visit the ' +\n",
              "            '<a target=\"_blank\" href=https://colab.research.google.com/notebooks/data_table.ipynb>data table notebook</a>'\n",
              "            + ' to learn more about interactive tables.';\n",
              "          element.innerHTML = '';\n",
              "          dataTable['output_type'] = 'display_data';\n",
              "          await google.colab.output.renderOutput(dataTable, element);\n",
              "          const docLink = document.createElement('div');\n",
              "          docLink.innerHTML = docLinkHtml;\n",
              "          element.appendChild(docLink);\n",
              "        }\n",
              "      </script>\n",
              "    </div>\n",
              "  </div>\n",
              "  "
            ]
          },
          "metadata": {},
          "execution_count": 48
        }
      ]
    },
    {
      "cell_type": "code",
      "source": [
        "data.info()"
      ],
      "metadata": {
        "id": "fDO62wno8wTq",
        "outputId": "9c37dca8-c856-485a-dc78-8fdae7d79552",
        "colab": {
          "base_uri": "https://localhost:8080/"
        }
      },
      "execution_count": 49,
      "outputs": [
        {
          "output_type": "stream",
          "name": "stdout",
          "text": [
            "<class 'pandas.core.frame.DataFrame'>\n",
            "DatetimeIndex: 1942 entries, 2017-11-09 to 2023-03-04\n",
            "Data columns (total 6 columns):\n",
            " #   Column     Non-Null Count  Dtype  \n",
            "---  ------     --------------  -----  \n",
            " 0   Open       1942 non-null   float64\n",
            " 1   High       1942 non-null   float64\n",
            " 2   Low        1942 non-null   float64\n",
            " 3   Close      1942 non-null   float64\n",
            " 4   Adj Close  1942 non-null   float64\n",
            " 5   Volume     1942 non-null   int64  \n",
            "dtypes: float64(5), int64(1)\n",
            "memory usage: 106.2 KB\n"
          ]
        }
      ]
    },
    {
      "cell_type": "code",
      "source": [
        "data.dropna(inplace=True)\n",
        "data.isnull().sum()"
      ],
      "metadata": {
        "id": "fFt1iBLCWi1V",
        "outputId": "f4995bbb-2640-42b4-c77a-5c777f2174cb",
        "colab": {
          "base_uri": "https://localhost:8080/"
        }
      },
      "execution_count": 50,
      "outputs": [
        {
          "output_type": "execute_result",
          "data": {
            "text/plain": [
              "Open         0\n",
              "High         0\n",
              "Low          0\n",
              "Close        0\n",
              "Adj Close    0\n",
              "Volume       0\n",
              "dtype: int64"
            ]
          },
          "metadata": {},
          "execution_count": 50
        }
      ]
    },
    {
      "cell_type": "markdown",
      "source": [
        "# Visualization\n"
      ],
      "metadata": {
        "id": "1rXCBRyTrM4y"
      }
    },
    {
      "cell_type": "code",
      "source": [
        "import matplotlib.pyplot as plt\n",
        "import seaborn as sns"
      ],
      "metadata": {
        "id": "bR0Fbh666Iwx"
      },
      "execution_count": 51,
      "outputs": []
    },
    {
      "cell_type": "code",
      "source": [
        "selected_columns = ['Open', 'High', 'Low', 'Close','Adj Close','Volume']\n",
        "data[selected_columns].plot(subplots=True, figsize=(12,10))\n",
        "plt.title('ETH coin attributes')\n",
        "plt.show()"
      ],
      "metadata": {
        "id": "TqhbDHny_MQj",
        "outputId": "68ce9974-0516-4e77-8a78-26973a8c65e7",
        "colab": {
          "base_uri": "https://localhost:8080/",
          "height": 606
        }
      },
      "execution_count": 52,
      "outputs": [
        {
          "output_type": "display_data",
          "data": {
            "text/plain": [
              "<Figure size 864x720 with 6 Axes>"
            ],
            "image/png": "[encoded data removed]"
          },
          "metadata": {
            "needs_background": "light"
          }
        }
      ]
    },
    {
      "cell_type": "code",
      "source": [
        "df2=pdr.get_data_yahoo(\"ETH-USD\",)\n",
        "del df2[\"Adj Close\"]\n"
      ],
      "metadata": {
        "id": "gLLwi5pe_MbM",
        "outputId": "ff6d1511-1f77-40d5-89ba-1e40c7c2373e",
        "colab": {
          "base_uri": "https://localhost:8080/"
        }
      },
      "execution_count": 53,
      "outputs": [
        {
          "output_type": "stream",
          "name": "stdout",
          "text": [
            "\r[*********************100%***********************]  1 of 1 completed\n"
          ]
        }
      ]
    },
    {
      "cell_type": "code",
      "source": [
        "df2.describe()"
      ],
      "metadata": {
        "id": "hnJjauDruPU1",
        "outputId": "fba5721f-ffac-4a57-af3a-df15d2fb99d1",
        "colab": {
          "base_uri": "https://localhost:8080/",
          "height": 300
        }
      },
      "execution_count": 54,
      "outputs": [
        {
          "output_type": "execute_result",
          "data": {
            "text/plain": [
              "              Open         High          Low        Close        Volume\n",
              "count  1942.000000  1942.000000  1942.000000  1942.000000  1.942000e+03\n",
              "mean   1142.991962  1179.112811  1102.186795  1143.408403  1.272815e+10\n",
              "std    1171.672557  1207.257168  1130.554815  1171.091039  1.066248e+10\n",
              "min      84.279694    85.342743    82.829887    84.308296  6.217330e+08\n",
              "25%     214.323799   220.246418   208.710354   214.295589  4.558415e+09\n",
              "50%     560.891113   581.254242   540.786835   563.559998  1.031033e+10\n",
              "75%    1715.794861  1759.398468  1672.195099  1715.812286  1.797717e+10\n",
              "max    4810.071289  4891.704590  4718.039062  4812.087402  8.448291e+10"
            ],
            "text/html": [
              "\n",
              "  <div id=\"df-5601ab22-7b16-4227-8e40-fff66cc091b4\">\n",
              "    <div class=\"colab-df-container\">\n",
              "      <div>\n",
              "<style scoped>\n",
              "    .dataframe tbody tr th:only-of-type {\n",
              "        vertical-align: middle;\n",
              "    }\n",
              "\n",
              "    .dataframe tbody tr th {\n",
              "        vertical-align: top;\n",
              "    }\n",
              "\n",
              "    .dataframe thead th {\n",
              "        text-align: right;\n",
              "    }\n",
              "</style>\n",
              "<table border=\"1\" class=\"dataframe\">\n",
              "  <thead>\n",
              "    <tr style=\"text-align: right;\">\n",
              "      <th></th>\n",
              "      <th>Open</th>\n",
              "      <th>High</th>\n",
              "      <th>Low</th>\n",
              "      <th>Close</th>\n",
              "      <th>Volume</th>\n",
              "    </tr>\n",
              "  </thead>\n",
              "  <tbody>\n",
              "    <tr>\n",
              "      <th>count</th>\n",
              "      <td>1942.000000</td>\n",
              "      <td>1942.000000</td>\n",
              "      <td>1942.000000</td>\n",
              "      <td>1942.000000</td>\n",
              "      <td>1.942000e+03</td>\n",
              "    </tr>\n",
              "    <tr>\n",
              "      <th>mean</th>\n",
              "      <td>1142.991962</td>\n",
              "      <td>1179.112811</td>\n",
              "      <td>1102.186795</td>\n",
              "      <td>1143.408403</td>\n",
              "      <td>1.272815e+10</td>\n",
              "    </tr>\n",
              "    <tr>\n",
              "      <th>std</th>\n",
              "      <td>1171.672557</td>\n",
              "      <td>1207.257168</td>\n",
              "      <td>1130.554815</td>\n",
              "      <td>1171.091039</td>\n",
              "      <td>1.066248e+10</td>\n",
              "    </tr>\n",
              "    <tr>\n",
              "      <th>min</th>\n",
              "      <td>84.279694</td>\n",
              "      <td>85.342743</td>\n",
              "      <td>82.829887</td>\n",
              "      <td>84.308296</td>\n",
              "      <td>6.217330e+08</td>\n",
              "    </tr>\n",
              "    <tr>\n",
              "      <th>25%</th>\n",
              "      <td>214.323799</td>\n",
              "      <td>220.246418</td>\n",
              "      <td>208.710354</td>\n",
              "      <td>214.295589</td>\n",
              "      <td>4.558415e+09</td>\n",
              "    </tr>\n",
              "    <tr>\n",
              "      <th>50%</th>\n",
              "      <td>560.891113</td>\n",
              "      <td>581.254242</td>\n",
              "      <td>540.786835</td>\n",
              "      <td>563.559998</td>\n",
              "      <td>1.031033e+10</td>\n",
              "    </tr>\n",
              "    <tr>\n",
              "      <th>75%</th>\n",
              "      <td>1715.794861</td>\n",
              "      <td>1759.398468</td>\n",
              "      <td>1672.195099</td>\n",
              "      <td>1715.812286</td>\n",
              "      <td>1.797717e+10</td>\n",
              "    </tr>\n",
              "    <tr>\n",
              "      <th>max</th>\n",
              "      <td>4810.071289</td>\n",
              "      <td>4891.704590</td>\n",
              "      <td>4718.039062</td>\n",
              "      <td>4812.087402</td>\n",
              "      <td>8.448291e+10</td>\n",
              "    </tr>\n",
              "  </tbody>\n",
              "</table>\n",
              "</div>\n",
              "      <button class=\"colab-df-convert\" onclick=\"convertToInteractive('df-5601ab22-7b16-4227-8e40-fff66cc091b4')\"\n",
              "              title=\"Convert this dataframe to an interactive table.\"\n",
              "              style=\"display:none;\">\n",
              "        \n",
              "  <svg xmlns=\"http://www.w3.org/2000/svg\" height=\"24px\"viewBox=\"0 0 24 24\"\n",
              "       width=\"24px\">\n",
              "    <path d=\"M0 0h24v24H0V0z\" fill=\"none\"/>\n",
              "    <path d=\"M18.56 5.44l.94 2.06.94-2.06 2.06-.94-2.06-.94-.94-2.06-.94 2.06-2.06.94zm-11 1L8.5 8.5l.94-2.06 2.06-.94-2.06-.94L8.5 2.5l-.94 2.06-2.06.94zm10 10l.94 2.06.94-2.06 2.06-.94-2.06-.94-.94-2.06-.94 2.06-2.06.94z\"/><path d=\"M17.41 7.96l-1.37-1.37c-.4-.4-.92-.59-1.43-.59-.52 0-1.04.2-1.43.59L10.3 9.45l-7.72 7.72c-.78.78-.78 2.05 0 2.83L4 21.41c.39.39.9.59 1.41.59.51 0 1.02-.2 1.41-.59l7.78-7.78 2.81-2.81c.8-.78.8-2.07 0-2.86zM5.41 20L4 18.59l7.72-7.72 1.47 1.35L5.41 20z\"/>\n",
              "  </svg>\n",
              "      </button>\n",
              "      \n",
              "  <style>\n",
              "    .colab-df-container {\n",
              "      display:flex;\n",
              "      flex-wrap:wrap;\n",
              "      gap: 12px;\n",
              "    }\n",
              "\n",
              "    .colab-df-convert {\n",
              "      background-color: #E8F0FE;\n",
              "      border: none;\n",
              "      border-radius: 50%;\n",
              "      cursor: pointer;\n",
              "      display: none;\n",
              "      fill: #1967D2;\n",
              "      height: 32px;\n",
              "      padding: 0 0 0 0;\n",
              "      width: 32px;\n",
              "    }\n",
              "\n",
              "    .colab-df-convert:hover {\n",
              "      background-color: #E2EBFA;\n",
              "      box-shadow: 0px 1px 2px rgba(60, 64, 67, 0.3), 0px 1px 3px 1px rgba(60, 64, 67, 0.15);\n",
              "      fill: #174EA6;\n",
              "    }\n",
              "\n",
              "    [theme=dark] .colab-df-convert {\n",
              "      background-color: #3B4455;\n",
              "      fill: #D2E3FC;\n",
              "    }\n",
              "\n",
              "    [theme=dark] .colab-df-convert:hover {\n",
              "      background-color: #434B5C;\n",
              "      box-shadow: 0px 1px 3px 1px rgba(0, 0, 0, 0.15);\n",
              "      filter: drop-shadow(0px 1px 2px rgba(0, 0, 0, 0.3));\n",
              "      fill: #FFFFFF;\n",
              "    }\n",
              "  </style>\n",
              "\n",
              "      <script>\n",
              "        const buttonEl =\n",
              "          document.querySelector('#df-5601ab22-7b16-4227-8e40-fff66cc091b4 button.colab-df-convert');\n",
              "        buttonEl.style.display =\n",
              "          google.colab.kernel.accessAllowed ? 'block' : 'none';\n",
              "\n",
              "        async function convertToInteractive(key) {\n",
              "          const element = document.querySelector('#df-5601ab22-7b16-4227-8e40-fff66cc091b4');\n",
              "          const dataTable =\n",
              "            await google.colab.kernel.invokeFunction('convertToInteractive',\n",
              "                                                     [key], {});\n",
              "          if (!dataTable) return;\n",
              "\n",
              "          const docLinkHtml = 'Like what you see? Visit the ' +\n",
              "            '<a target=\"_blank\" href=https://colab.research.google.com/notebooks/data_table.ipynb>data table notebook</a>'\n",
              "            + ' to learn more about interactive tables.';\n",
              "          element.innerHTML = '';\n",
              "          dataTable['output_type'] = 'display_data';\n",
              "          await google.colab.output.renderOutput(dataTable, element);\n",
              "          const docLink = document.createElement('div');\n",
              "          docLink.innerHTML = docLinkHtml;\n",
              "          element.appendChild(docLink);\n",
              "        }\n",
              "      </script>\n",
              "    </div>\n",
              "  </div>\n",
              "  "
            ]
          },
          "metadata": {},
          "execution_count": 54
        }
      ]
    },
    {
      "cell_type": "markdown",
      "source": [
        "# Monthly Forecasting <a name=\"monthlyForecasting\"></a>"
      ],
      "metadata": {
        "id": "NFjRCQ3tZAbf"
      }
    },
    {
      "cell_type": "markdown",
      "source": [
        "This plot helps us visualize the max and min values of monthly helping us\n",
        "infering that:\n",
        "\n",
        "1. 30th november 2021 has the high maximum price and 31st december 2018 has high minimum price compared to other years\n",
        "2. From year 2019 to 2020 the maximum and minimum closing prices of Ethereum closing price are near."
      ],
      "metadata": {
        "id": "UH4AWonVpwLb"
      }
    },
    {
      "cell_type": "code",
      "source": [],
      "metadata": {
        "id": "66_BWiOVHEJT"
      },
      "execution_count": 54,
      "outputs": []
    },
    {
      "cell_type": "code",
      "source": [
        "df2_month=df2.resample(rule=\"MS\").mean()"
      ],
      "metadata": {
        "id": "6uXhH-7rqoRU"
      },
      "execution_count": 55,
      "outputs": []
    },
    {
      "cell_type": "code",
      "source": [
        "df2_month"
      ],
      "metadata": {
        "colab": {
          "base_uri": "https://localhost:8080/",
          "height": 455
        },
        "id": "wim9tIofAUSx",
        "outputId": "32d27852-2e5f-4998-dca1-eaac47f72db0"
      },
      "execution_count": 56,
      "outputs": [
        {
          "output_type": "execute_result",
          "data": {
            "text/plain": [
              "                   Open         High          Low        Close        Volume\n",
              "Date                                                                        \n",
              "2017-11-01   373.696317   393.111908   363.283635   379.732093  1.225341e+09\n",
              "2017-12-01   630.583997   667.252580   596.163133   640.209291  2.576202e+09\n",
              "2018-01-01  1093.099893  1163.799714  1024.934606  1103.646004  5.277749e+09\n",
              "2018-02-01   882.527006   917.850394   825.723679   873.116318  2.978337e+09\n",
              "2018-03-01   640.787129   653.875259   606.506935   625.761325  1.732780e+09\n",
              "...                 ...          ...          ...          ...           ...\n",
              "2022-11-01  1307.122107  1341.226990  1262.868237  1297.930184  1.405993e+10\n",
              "2022-12-01  1240.294394  1255.038866  1221.342147  1237.105890  5.197763e+09\n",
              "2023-01-01  1454.913763  1486.601736  1434.767791  1466.950026  7.256547e+09\n",
              "2023-02-01  1623.919765  1654.276873  1595.175406  1624.605630  7.991048e+09\n",
              "2023-03-01  1621.676453  1639.830536  1585.780609  1612.297180  7.681362e+09\n",
              "\n",
              "[65 rows x 5 columns]"
            ],
            "text/html": [
              "\n",
              "  <div id=\"df-6cf38b22-acd2-4583-a8f9-60a42a8234f5\">\n",
              "    <div class=\"colab-df-container\">\n",
              "      <div>\n",
              "<style scoped>\n",
              "    .dataframe tbody tr th:only-of-type {\n",
              "        vertical-align: middle;\n",
              "    }\n",
              "\n",
              "    .dataframe tbody tr th {\n",
              "        vertical-align: top;\n",
              "    }\n",
              "\n",
              "    .dataframe thead th {\n",
              "        text-align: right;\n",
              "    }\n",
              "</style>\n",
              "<table border=\"1\" class=\"dataframe\">\n",
              "  <thead>\n",
              "    <tr style=\"text-align: right;\">\n",
              "      <th></th>\n",
              "      <th>Open</th>\n",
              "      <th>High</th>\n",
              "      <th>Low</th>\n",
              "      <th>Close</th>\n",
              "      <th>Volume</th>\n",
              "    </tr>\n",
              "    <tr>\n",
              "      <th>Date</th>\n",
              "      <th></th>\n",
              "      <th></th>\n",
              "      <th></th>\n",
              "      <th></th>\n",
              "      <th></th>\n",
              "    </tr>\n",
              "  </thead>\n",
              "  <tbody>\n",
              "    <tr>\n",
              "      <th>2017-11-01</th>\n",
              "      <td>373.696317</td>\n",
              "      <td>393.111908</td>\n",
              "      <td>363.283635</td>\n",
              "      <td>379.732093</td>\n",
              "      <td>1.225341e+09</td>\n",
              "    </tr>\n",
              "    <tr>\n",
              "      <th>2017-12-01</th>\n",
              "      <td>630.583997</td>\n",
              "      <td>667.252580</td>\n",
              "      <td>596.163133</td>\n",
              "      <td>640.209291</td>\n",
              "      <td>2.576202e+09</td>\n",
              "    </tr>\n",
              "    <tr>\n",
              "      <th>2018-01-01</th>\n",
              "      <td>1093.099893</td>\n",
              "      <td>1163.799714</td>\n",
              "      <td>1024.934606</td>\n",
              "      <td>1103.646004</td>\n",
              "      <td>5.277749e+09</td>\n",
              "    </tr>\n",
              "    <tr>\n",
              "      <th>2018-02-01</th>\n",
              "      <td>882.527006</td>\n",
              "      <td>917.850394</td>\n",
              "      <td>825.723679</td>\n",
              "      <td>873.116318</td>\n",
              "      <td>2.978337e+09</td>\n",
              "    </tr>\n",
              "    <tr>\n",
              "      <th>2018-03-01</th>\n",
              "      <td>640.787129</td>\n",
              "      <td>653.875259</td>\n",
              "      <td>606.506935</td>\n",
              "      <td>625.761325</td>\n",
              "      <td>1.732780e+09</td>\n",
              "    </tr>\n",
              "    <tr>\n",
              "      <th>...</th>\n",
              "      <td>...</td>\n",
              "      <td>...</td>\n",
              "      <td>...</td>\n",
              "      <td>...</td>\n",
              "      <td>...</td>\n",
              "    </tr>\n",
              "    <tr>\n",
              "      <th>2022-11-01</th>\n",
              "      <td>1307.122107</td>\n",
              "      <td>1341.226990</td>\n",
              "      <td>1262.868237</td>\n",
              "      <td>1297.930184</td>\n",
              "      <td>1.405993e+10</td>\n",
              "    </tr>\n",
              "    <tr>\n",
              "      <th>2022-12-01</th>\n",
              "      <td>1240.294394</td>\n",
              "      <td>1255.038866</td>\n",
              "      <td>1221.342147</td>\n",
              "      <td>1237.105890</td>\n",
              "      <td>5.197763e+09</td>\n",
              "    </tr>\n",
              "    <tr>\n",
              "      <th>2023-01-01</th>\n",
              "      <td>1454.913763</td>\n",
              "      <td>1486.601736</td>\n",
              "      <td>1434.767791</td>\n",
              "      <td>1466.950026</td>\n",
              "      <td>7.256547e+09</td>\n",
              "    </tr>\n",
              "    <tr>\n",
              "      <th>2023-02-01</th>\n",
              "      <td>1623.919765</td>\n",
              "      <td>1654.276873</td>\n",
              "      <td>1595.175406</td>\n",
              "      <td>1624.605630</td>\n",
              "      <td>7.991048e+09</td>\n",
              "    </tr>\n",
              "    <tr>\n",
              "      <th>2023-03-01</th>\n",
              "      <td>1621.676453</td>\n",
              "      <td>1639.830536</td>\n",
              "      <td>1585.780609</td>\n",
              "      <td>1612.297180</td>\n",
              "      <td>7.681362e+09</td>\n",
              "    </tr>\n",
              "  </tbody>\n",
              "</table>\n",
              "<p>65 rows × 5 columns</p>\n",
              "</div>\n",
              "      <button class=\"colab-df-convert\" onclick=\"convertToInteractive('df-6cf38b22-acd2-4583-a8f9-60a42a8234f5')\"\n",
              "              title=\"Convert this dataframe to an interactive table.\"\n",
              "              style=\"display:none;\">\n",
              "        \n",
              "  <svg xmlns=\"http://www.w3.org/2000/svg\" height=\"24px\"viewBox=\"0 0 24 24\"\n",
              "       width=\"24px\">\n",
              "    <path d=\"M0 0h24v24H0V0z\" fill=\"none\"/>\n",
              "    <path d=\"M18.56 5.44l.94 2.06.94-2.06 2.06-.94-2.06-.94-.94-2.06-.94 2.06-2.06.94zm-11 1L8.5 8.5l.94-2.06 2.06-.94-2.06-.94L8.5 2.5l-.94 2.06-2.06.94zm10 10l.94 2.06.94-2.06 2.06-.94-2.06-.94-.94-2.06-.94 2.06-2.06.94z\"/><path d=\"M17.41 7.96l-1.37-1.37c-.4-.4-.92-.59-1.43-.59-.52 0-1.04.2-1.43.59L10.3 9.45l-7.72 7.72c-.78.78-.78 2.05 0 2.83L4 21.41c.39.39.9.59 1.41.59.51 0 1.02-.2 1.41-.59l7.78-7.78 2.81-2.81c.8-.78.8-2.07 0-2.86zM5.41 20L4 18.59l7.72-7.72 1.47 1.35L5.41 20z\"/>\n",
              "  </svg>\n",
              "      </button>\n",
              "      \n",
              "  <style>\n",
              "    .colab-df-container {\n",
              "      display:flex;\n",
              "      flex-wrap:wrap;\n",
              "      gap: 12px;\n",
              "    }\n",
              "\n",
              "    .colab-df-convert {\n",
              "      background-color: #E8F0FE;\n",
              "      border: none;\n",
              "      border-radius: 50%;\n",
              "      cursor: pointer;\n",
              "      display: none;\n",
              "      fill: #1967D2;\n",
              "      height: 32px;\n",
              "      padding: 0 0 0 0;\n",
              "      width: 32px;\n",
              "    }\n",
              "\n",
              "    .colab-df-convert:hover {\n",
              "      background-color: #E2EBFA;\n",
              "      box-shadow: 0px 1px 2px rgba(60, 64, 67, 0.3), 0px 1px 3px 1px rgba(60, 64, 67, 0.15);\n",
              "      fill: #174EA6;\n",
              "    }\n",
              "\n",
              "    [theme=dark] .colab-df-convert {\n",
              "      background-color: #3B4455;\n",
              "      fill: #D2E3FC;\n",
              "    }\n",
              "\n",
              "    [theme=dark] .colab-df-convert:hover {\n",
              "      background-color: #434B5C;\n",
              "      box-shadow: 0px 1px 3px 1px rgba(0, 0, 0, 0.15);\n",
              "      filter: drop-shadow(0px 1px 2px rgba(0, 0, 0, 0.3));\n",
              "      fill: #FFFFFF;\n",
              "    }\n",
              "  </style>\n",
              "\n",
              "      <script>\n",
              "        const buttonEl =\n",
              "          document.querySelector('#df-6cf38b22-acd2-4583-a8f9-60a42a8234f5 button.colab-df-convert');\n",
              "        buttonEl.style.display =\n",
              "          google.colab.kernel.accessAllowed ? 'block' : 'none';\n",
              "\n",
              "        async function convertToInteractive(key) {\n",
              "          const element = document.querySelector('#df-6cf38b22-acd2-4583-a8f9-60a42a8234f5');\n",
              "          const dataTable =\n",
              "            await google.colab.kernel.invokeFunction('convertToInteractive',\n",
              "                                                     [key], {});\n",
              "          if (!dataTable) return;\n",
              "\n",
              "          const docLinkHtml = 'Like what you see? Visit the ' +\n",
              "            '<a target=\"_blank\" href=https://colab.research.google.com/notebooks/data_table.ipynb>data table notebook</a>'\n",
              "            + ' to learn more about interactive tables.';\n",
              "          element.innerHTML = '';\n",
              "          dataTable['output_type'] = 'display_data';\n",
              "          await google.colab.output.renderOutput(dataTable, element);\n",
              "          const docLink = document.createElement('div');\n",
              "          docLink.innerHTML = docLinkHtml;\n",
              "          element.appendChild(docLink);\n",
              "        }\n",
              "      </script>\n",
              "    </div>\n",
              "  </div>\n",
              "  "
            ]
          },
          "metadata": {},
          "execution_count": 56
        }
      ]
    },
    {
      "cell_type": "code",
      "source": [
        "df2['Close'].resample(rule='MS').mean().plot(kind=\"bar\",figsize=(15,6))"
      ],
      "metadata": {
        "id": "7dgJpftwqZay",
        "outputId": "eba30be5-a9c2-4d95-e44d-48f70b300cca",
        "colab": {
          "base_uri": "https://localhost:8080/",
          "height": 500
        }
      },
      "execution_count": 57,
      "outputs": [
        {
          "output_type": "execute_result",
          "data": {
            "text/plain": [
              "<AxesSubplot:xlabel='Date'>"
            ]
          },
          "metadata": {},
          "execution_count": 57
        },
        {
          "output_type": "display_data",
          "data": {
            "text/plain": [
              "<Figure size 1080x432 with 1 Axes>"
            ],
            "image/png": "[encoded data removed]"
          },
          "metadata": {
            "needs_background": "light"
          }
        }
      ]
    },
    {
      "cell_type": "markdown",
      "source": [
        "# Stationarity check and seasonal decomposition<a name=\"StationarityCheck\"></a>"
      ],
      "metadata": {
        "id": "-Fckhghvk94i"
      }
    },
    {
      "cell_type": "markdown",
      "source": [
        "##Stationarity check\n",
        "\n",
        "If a time series is stationary, it implies the lack of broad trends (changes in mean and variance over time) in the data. This is important as a consideration in time series forecasting."
      ],
      "metadata": {
        "id": "Q8FCGpPur9cV"
      }
    },
    {
      "cell_type": "code",
      "source": [
        "import statsmodels.api as sm"
      ],
      "metadata": {
        "id": "jS4XKLD184QP"
      },
      "execution_count": 58,
      "outputs": []
    },
    {
      "cell_type": "code",
      "source": [
        "plt.figure(figsize=[30,10])\n",
        "sm.tsa.seasonal_decompose(df2.resample(rule='M').median().Close).plot()\n",
        "plt.show()"
      ],
      "metadata": {
        "id": "tNFGM-1i9FdP",
        "outputId": "20a76bb0-d62e-4117-fe7b-2b95d8a70009",
        "colab": {
          "base_uri": "https://localhost:8080/",
          "height": 314
        }
      },
      "execution_count": 101,
      "outputs": [
        {
          "output_type": "display_data",
          "data": {
            "text/plain": [
              "<Figure size 2160x720 with 0 Axes>"
            ]
          },
          "metadata": {}
        },
        {
          "output_type": "display_data",
          "data": {
            "text/plain": [
              "<Figure size 432x288 with 4 Axes>"
            ],
            "image/png": "[encoded data removed]"
          },
          "metadata": {
            "needs_background": "light"
          }
        }
      ]
    },
    {
      "cell_type": "code",
      "source": [
        "from statsmodels.tsa.stattools import adfuller\n",
        "def adf_test(series):\n",
        "    result=adfuller(series)\n",
        "    print('ADF Statistics: {}'.format(result[0]))\n",
        "    print('p- value: {}'.format(result[1]))\n",
        "    if result[1] <= 0.05:\n",
        "        print(\"strong evidence against the null hypothesis, reject the null hypothesis. Data has no unit root and is stationary\")\n",
        "    else:\n",
        "        print(\"weak evidence against null hypothesis, time series has a unit root, indicating it is non-stationary \")\n",
        "\n",
        "adf_test(data['Close'])"
      ],
      "metadata": {
        "id": "0dteUzd2_MXv",
        "outputId": "92bcf88f-b5ca-42a0-bb86-b4def5602cbc",
        "colab": {
          "base_uri": "https://localhost:8080/"
        }
      },
      "execution_count": 60,
      "outputs": [
        {
          "output_type": "stream",
          "name": "stdout",
          "text": [
            "ADF Statistics: -1.4188319585576936\n",
            "p- value: 0.5732152873706245\n",
            "weak evidence against null hypothesis, time series has a unit root, indicating it is non-stationary \n"
          ]
        }
      ]
    },
    {
      "cell_type": "code",
      "source": [
        "df2_daily = df2.resample('D').mean()\n",
        "df2_daily"
      ],
      "metadata": {
        "colab": {
          "base_uri": "https://localhost:8080/",
          "height": 455
        },
        "id": "J-518fl7m4ys",
        "outputId": "5aa6103b-206d-453d-ce24-2dca6734d458"
      },
      "execution_count": 62,
      "outputs": [
        {
          "output_type": "execute_result",
          "data": {
            "text/plain": [
              "                   Open         High          Low        Close        Volume\n",
              "Date                                                                        \n",
              "2017-11-09   308.644989   329.451996   307.056000   320.884003  8.932500e+08\n",
              "2017-11-10   320.670990   324.717987   294.541992   299.252991  8.859860e+08\n",
              "2017-11-11   298.585999   319.453003   298.191986   314.681000  8.423010e+08\n",
              "2017-11-12   314.690002   319.153015   298.513000   307.907990  1.613480e+09\n",
              "2017-11-13   307.024994   328.415009   307.024994   316.716003  1.041890e+09\n",
              "...                 ...          ...          ...          ...           ...\n",
              "2023-02-28  1634.502441  1644.435791  1602.428101  1605.895142  6.323677e+09\n",
              "2023-03-01  1606.040405  1663.433716  1601.548584  1663.433716  7.701847e+09\n",
              "2023-03-02  1663.549072  1672.051147  1622.599976  1647.319336  7.080951e+09\n",
              "2023-03-03  1647.557739  1648.475342  1552.451538  1569.167603  9.922240e+09\n",
              "2023-03-04  1569.558594  1575.361938  1566.522339  1569.268066  6.020411e+09\n",
              "\n",
              "[1942 rows x 5 columns]"
            ],
            "text/html": [
              "\n",
              "  <div id=\"df-5c66b193-f71a-446b-ae50-ecb2fe0f925f\">\n",
              "    <div class=\"colab-df-container\">\n",
              "      <div>\n",
              "<style scoped>\n",
              "    .dataframe tbody tr th:only-of-type {\n",
              "        vertical-align: middle;\n",
              "    }\n",
              "\n",
              "    .dataframe tbody tr th {\n",
              "        vertical-align: top;\n",
              "    }\n",
              "\n",
              "    .dataframe thead th {\n",
              "        text-align: right;\n",
              "    }\n",
              "</style>\n",
              "<table border=\"1\" class=\"dataframe\">\n",
              "  <thead>\n",
              "    <tr style=\"text-align: right;\">\n",
              "      <th></th>\n",
              "      <th>Open</th>\n",
              "      <th>High</th>\n",
              "      <th>Low</th>\n",
              "      <th>Close</th>\n",
              "      <th>Volume</th>\n",
              "    </tr>\n",
              "    <tr>\n",
              "      <th>Date</th>\n",
              "      <th></th>\n",
              "      <th></th>\n",
              "      <th></th>\n",
              "      <th></th>\n",
              "      <th></th>\n",
              "    </tr>\n",
              "  </thead>\n",
              "  <tbody>\n",
              "    <tr>\n",
              "      <th>2017-11-09</th>\n",
              "      <td>308.644989</td>\n",
              "      <td>329.451996</td>\n",
              "      <td>307.056000</td>\n",
              "      <td>320.884003</td>\n",
              "      <td>8.932500e+08</td>\n",
              "    </tr>\n",
              "    <tr>\n",
              "      <th>2017-11-10</th>\n",
              "      <td>320.670990</td>\n",
              "      <td>324.717987</td>\n",
              "      <td>294.541992</td>\n",
              "      <td>299.252991</td>\n",
              "      <td>8.859860e+08</td>\n",
              "    </tr>\n",
              "    <tr>\n",
              "      <th>2017-11-11</th>\n",
              "      <td>298.585999</td>\n",
              "      <td>319.453003</td>\n",
              "      <td>298.191986</td>\n",
              "      <td>314.681000</td>\n",
              "      <td>8.423010e+08</td>\n",
              "    </tr>\n",
              "    <tr>\n",
              "      <th>2017-11-12</th>\n",
              "      <td>314.690002</td>\n",
              "      <td>319.153015</td>\n",
              "      <td>298.513000</td>\n",
              "      <td>307.907990</td>\n",
              "      <td>1.613480e+09</td>\n",
              "    </tr>\n",
              "    <tr>\n",
              "      <th>2017-11-13</th>\n",
              "      <td>307.024994</td>\n",
              "      <td>328.415009</td>\n",
              "      <td>307.024994</td>\n",
              "      <td>316.716003</td>\n",
              "      <td>1.041890e+09</td>\n",
              "    </tr>\n",
              "    <tr>\n",
              "      <th>...</th>\n",
              "      <td>...</td>\n",
              "      <td>...</td>\n",
              "      <td>...</td>\n",
              "      <td>...</td>\n",
              "      <td>...</td>\n",
              "    </tr>\n",
              "    <tr>\n",
              "      <th>2023-02-28</th>\n",
              "      <td>1634.502441</td>\n",
              "      <td>1644.435791</td>\n",
              "      <td>1602.428101</td>\n",
              "      <td>1605.895142</td>\n",
              "      <td>6.323677e+09</td>\n",
              "    </tr>\n",
              "    <tr>\n",
              "      <th>2023-03-01</th>\n",
              "      <td>1606.040405</td>\n",
              "      <td>1663.433716</td>\n",
              "      <td>1601.548584</td>\n",
              "      <td>1663.433716</td>\n",
              "      <td>7.701847e+09</td>\n",
              "    </tr>\n",
              "    <tr>\n",
              "      <th>2023-03-02</th>\n",
              "      <td>1663.549072</td>\n",
              "      <td>1672.051147</td>\n",
              "      <td>1622.599976</td>\n",
              "      <td>1647.319336</td>\n",
              "      <td>7.080951e+09</td>\n",
              "    </tr>\n",
              "    <tr>\n",
              "      <th>2023-03-03</th>\n",
              "      <td>1647.557739</td>\n",
              "      <td>1648.475342</td>\n",
              "      <td>1552.451538</td>\n",
              "      <td>1569.167603</td>\n",
              "      <td>9.922240e+09</td>\n",
              "    </tr>\n",
              "    <tr>\n",
              "      <th>2023-03-04</th>\n",
              "      <td>1569.558594</td>\n",
              "      <td>1575.361938</td>\n",
              "      <td>1566.522339</td>\n",
              "      <td>1569.268066</td>\n",
              "      <td>6.020411e+09</td>\n",
              "    </tr>\n",
              "  </tbody>\n",
              "</table>\n",
              "<p>1942 rows × 5 columns</p>\n",
              "</div>\n",
              "      <button class=\"colab-df-convert\" onclick=\"convertToInteractive('df-5c66b193-f71a-446b-ae50-ecb2fe0f925f')\"\n",
              "              title=\"Convert this dataframe to an interactive table.\"\n",
              "              style=\"display:none;\">\n",
              "        \n",
              "  <svg xmlns=\"http://www.w3.org/2000/svg\" height=\"24px\"viewBox=\"0 0 24 24\"\n",
              "       width=\"24px\">\n",
              "    <path d=\"M0 0h24v24H0V0z\" fill=\"none\"/>\n",
              "    <path d=\"M18.56 5.44l.94 2.06.94-2.06 2.06-.94-2.06-.94-.94-2.06-.94 2.06-2.06.94zm-11 1L8.5 8.5l.94-2.06 2.06-.94-2.06-.94L8.5 2.5l-.94 2.06-2.06.94zm10 10l.94 2.06.94-2.06 2.06-.94-2.06-.94-.94-2.06-.94 2.06-2.06.94z\"/><path d=\"M17.41 7.96l-1.37-1.37c-.4-.4-.92-.59-1.43-.59-.52 0-1.04.2-1.43.59L10.3 9.45l-7.72 7.72c-.78.78-.78 2.05 0 2.83L4 21.41c.39.39.9.59 1.41.59.51 0 1.02-.2 1.41-.59l7.78-7.78 2.81-2.81c.8-.78.8-2.07 0-2.86zM5.41 20L4 18.59l7.72-7.72 1.47 1.35L5.41 20z\"/>\n",
              "  </svg>\n",
              "      </button>\n",
              "      \n",
              "  <style>\n",
              "    .colab-df-container {\n",
              "      display:flex;\n",
              "      flex-wrap:wrap;\n",
              "      gap: 12px;\n",
              "    }\n",
              "\n",
              "    .colab-df-convert {\n",
              "      background-color: #E8F0FE;\n",
              "      border: none;\n",
              "      border-radius: 50%;\n",
              "      cursor: pointer;\n",
              "      display: none;\n",
              "      fill: #1967D2;\n",
              "      height: 32px;\n",
              "      padding: 0 0 0 0;\n",
              "      width: 32px;\n",
              "    }\n",
              "\n",
              "    .colab-df-convert:hover {\n",
              "      background-color: #E2EBFA;\n",
              "      box-shadow: 0px 1px 2px rgba(60, 64, 67, 0.3), 0px 1px 3px 1px rgba(60, 64, 67, 0.15);\n",
              "      fill: #174EA6;\n",
              "    }\n",
              "\n",
              "    [theme=dark] .colab-df-convert {\n",
              "      background-color: #3B4455;\n",
              "      fill: #D2E3FC;\n",
              "    }\n",
              "\n",
              "    [theme=dark] .colab-df-convert:hover {\n",
              "      background-color: #434B5C;\n",
              "      box-shadow: 0px 1px 3px 1px rgba(0, 0, 0, 0.15);\n",
              "      filter: drop-shadow(0px 1px 2px rgba(0, 0, 0, 0.3));\n",
              "      fill: #FFFFFF;\n",
              "    }\n",
              "  </style>\n",
              "\n",
              "      <script>\n",
              "        const buttonEl =\n",
              "          document.querySelector('#df-5c66b193-f71a-446b-ae50-ecb2fe0f925f button.colab-df-convert');\n",
              "        buttonEl.style.display =\n",
              "          google.colab.kernel.accessAllowed ? 'block' : 'none';\n",
              "\n",
              "        async function convertToInteractive(key) {\n",
              "          const element = document.querySelector('#df-5c66b193-f71a-446b-ae50-ecb2fe0f925f');\n",
              "          const dataTable =\n",
              "            await google.colab.kernel.invokeFunction('convertToInteractive',\n",
              "                                                     [key], {});\n",
              "          if (!dataTable) return;\n",
              "\n",
              "          const docLinkHtml = 'Like what you see? Visit the ' +\n",
              "            '<a target=\"_blank\" href=https://colab.research.google.com/notebooks/data_table.ipynb>data table notebook</a>'\n",
              "            + ' to learn more about interactive tables.';\n",
              "          element.innerHTML = '';\n",
              "          dataTable['output_type'] = 'display_data';\n",
              "          await google.colab.output.renderOutput(dataTable, element);\n",
              "          const docLink = document.createElement('div');\n",
              "          docLink.innerHTML = docLinkHtml;\n",
              "          element.appendChild(docLink);\n",
              "        }\n",
              "      </script>\n",
              "    </div>\n",
              "  </div>\n",
              "  "
            ]
          },
          "metadata": {},
          "execution_count": 62
        }
      ]
    },
    {
      "cell_type": "markdown",
      "source": [
        "#Feature Engineering"
      ],
      "metadata": {
        "id": "84Bcz5vSdMA0"
      }
    },
    {
      "cell_type": "markdown",
      "source": [
        "## Box-Cox Transformation <a name=\"Transformation\"></a>"
      ],
      "metadata": {
        "id": "AdcXJh-zdIGs"
      }
    },
    {
      "cell_type": "markdown",
      "source": [
        "Lets use the Box-Cox transformation to suppress some of the variance.\n",
        "\n",
        "The Box-Cox transformation is a family of power transformations indexed by a parameter lambda. Whenever you use it the parameter needs to be estimated from the data. In time series the process could have a non-constant variance. if the variance changes with time the process is nonstationary. It is often desirable to transform a time series to make it stationary. Sometimes after applying Box-Cox with a particular value of lambda the process may look stationary. It is sometimes possible that even if after applying the Box-Cox transformation the series does not appear to be stationary, diagnostics from ARIMA modeling can then be used to decide if differencing or seasonal differencing might be useful to to remove polynomial trends or seasonal trends respectively. After that the result might be an ARMA model that is stationary. If diagnostics confirm the orders p and q for the ARMA model, the AR and MA parameters can then be estimated."
      ],
      "metadata": {
        "id": "MjMsDAcQdXMV"
      }
    },
    {
      "cell_type": "code",
      "source": [
        "# Box-Cox Transformations\n",
        "df2_daily['close_box'], lmbda = stats.boxcox(df2_daily.Close)\n",
        "print(\"Dickey–Fuller test: p=%f\" % adfuller(df2_daily.close_box)[1])"
      ],
      "metadata": {
        "colab": {
          "base_uri": "https://localhost:8080/"
        },
        "id": "T6YgmmN5dhI2",
        "outputId": "c9ce8589-9d9f-4442-a9e2-ecc2792cfbd5"
      },
      "execution_count": 63,
      "outputs": [
        {
          "output_type": "stream",
          "name": "stdout",
          "text": [
            "Dickey–Fuller test: p=0.778761\n"
          ]
        }
      ]
    },
    {
      "cell_type": "markdown",
      "source": [
        ":The p-value indicates that series is still not stationary.\n"
      ],
      "metadata": {
        "id": "KX95gygcdnlF"
      }
    },
    {
      "cell_type": "markdown",
      "source": [
        "## Seasonal decomposition"
      ],
      "metadata": {
        "id": "Lnwr9MCATP-5"
      }
    },
    {
      "cell_type": "code",
      "source": [
        "from statsmodels.tsa.seasonal import seasonal_decompose\n",
        "seasonal_decompose(df2.Close).plot()\n",
        "print(\"Dickey–Fuller test: p=%f\" % adfuller(data.Close)[1])\n",
        "plt.show()"
      ],
      "metadata": {
        "id": "k2aZ8pXzxwvv",
        "outputId": "43db268b-5b2d-4f33-bc07-0727f29418d9",
        "colab": {
          "base_uri": "https://localhost:8080/",
          "height": 314
        }
      },
      "execution_count": 102,
      "outputs": [
        {
          "output_type": "stream",
          "name": "stdout",
          "text": [
            "Dickey–Fuller test: p=0.573215\n"
          ]
        },
        {
          "output_type": "display_data",
          "data": {
            "text/plain": [
              "<Figure size 432x288 with 4 Axes>"
            ],
            "image/png": "[encoded data removed]"
          },
          "metadata": {
            "needs_background": "light"
          }
        }
      ]
    },
    {
      "cell_type": "markdown",
      "source": [
        "The p-value indicates that series is still not stationary.\n"
      ],
      "metadata": {
        "id": "Wr7rYbGkd_gw"
      }
    },
    {
      "cell_type": "markdown",
      "source": [
        "## Differencing <a name=\"Differencing\"></a>\n",
        "\n",
        "When building models to forecast time series data (like ARIMA), another pre-processing step is differencing the data (calculating sequentially xt−xt−1) until we get to a point where the series is stationary. \n"
      ],
      "metadata": {
        "id": "jj2JS88sjc33"
      }
    },
    {
      "cell_type": "code",
      "source": [
        "# Seasonal differentiation (12 months)\n",
        "df2_daily['box_diff_seasonal_12'] = df2_daily.close_box - df2_daily.close_box.shift(12)\n",
        "print(\"Dickey–Fuller test: p=%f\" % adfuller(df2_daily.box_diff_seasonal_12[12:])[1])"
      ],
      "metadata": {
        "colab": {
          "base_uri": "https://localhost:8080/"
        },
        "id": "1hAUo5bsdhFb",
        "outputId": "143c6037-e75d-4140-8ced-f15d1d89422f"
      },
      "execution_count": 64,
      "outputs": [
        {
          "output_type": "stream",
          "name": "stdout",
          "text": [
            "Dickey–Fuller test: p=0.000000\n"
          ]
        }
      ]
    },
    {
      "cell_type": "markdown",
      "source": [
        "The p-value indicates that series is still not stationary.\n"
      ],
      "metadata": {
        "id": "47kyKQ9PnzVi"
      }
    },
    {
      "cell_type": "code",
      "source": [
        "# Regular differentiation\n",
        "df2_daily['box_diff2'] = df2_daily.box_diff_seasonal_12 - df2_daily.box_diff_seasonal_12.shift(1)\n",
        "\n",
        "# STL-decomposition\n",
        "seasonal_decompose(df2_daily.box_diff2[13:]).plot()   \n",
        "print(\"Dickey–Fuller test: p=%f\" % adfuller(df2_daily.box_diff2[13:])[1])\n",
        "\n",
        "plt.show()"
      ],
      "metadata": {
        "colab": {
          "base_uri": "https://localhost:8080/",
          "height": 314
        },
        "id": "dvvmPjB6tnEs",
        "outputId": "e351e3d1-9c1d-4fdd-9fa1-9403f4a1b9ec"
      },
      "execution_count": 65,
      "outputs": [
        {
          "output_type": "stream",
          "name": "stdout",
          "text": [
            "Dickey–Fuller test: p=0.000000\n"
          ]
        },
        {
          "output_type": "display_data",
          "data": {
            "text/plain": [
              "<Figure size 432x288 with 4 Axes>"
            ],
            "image/png": "[encoded data removed]"
          },
          "metadata": {
            "needs_background": "light"
          }
        }
      ]
    },
    {
      "cell_type": "markdown",
      "source": [
        "The p-value indicates that series is stationary.\n"
      ],
      "metadata": {
        "id": "M9_DEf7fd4lU"
      }
    },
    {
      "cell_type": "code",
      "source": [
        "df2_daily.Close"
      ],
      "metadata": {
        "colab": {
          "base_uri": "https://localhost:8080/"
        },
        "id": "6emovt8Ot3og",
        "outputId": "82703a9b-9af8-4cca-c893-b68cd0ae3876"
      },
      "execution_count": 66,
      "outputs": [
        {
          "output_type": "execute_result",
          "data": {
            "text/plain": [
              "Date\n",
              "2017-11-09     320.884003\n",
              "2017-11-10     299.252991\n",
              "2017-11-11     314.681000\n",
              "2017-11-12     307.907990\n",
              "2017-11-13     316.716003\n",
              "                 ...     \n",
              "2023-02-28    1605.895142\n",
              "2023-03-01    1663.433716\n",
              "2023-03-02    1647.319336\n",
              "2023-03-03    1569.167603\n",
              "2023-03-04    1569.268066\n",
              "Freq: D, Name: Close, Length: 1942, dtype: float64"
            ]
          },
          "metadata": {},
          "execution_count": 66
        }
      ]
    },
    {
      "cell_type": "markdown",
      "source": [
        "## Autocorrelation  <a name=\"Autocorrelation\"></a>\n",
        "\n",
        "Autocorrelation is the correlation of a time series with the same time series lagged. It summarizes the strength of a relationship with an observation in a time series with observations at prior time steps.\n",
        "\n",
        "We create autocorrelation factor (ACF) and partial autocorrelation factor (PACF) plots to identify patterns in the above data which is stationary on both mean and variance. The idea is to identify presence of AR and MA components in the residuals. "
      ],
      "metadata": {
        "id": "GcPCHo2PQ4y3"
      }
    },
    {
      "cell_type": "markdown",
      "source": [
        "\n",
        "\n",
        "Lets try out autocorrelation on the differences..."
      ],
      "metadata": {
        "id": "IZgwi_TGwtwF"
      }
    },
    {
      "cell_type": "code",
      "source": [
        "\n",
        "sm.graphics.tsa.plot_acf(df2_daily.box_diff2[13:], lags=12)\n",
        "plt.xlabel(\"Lag\")\n",
        "plt.ylabel(\"Autocorrelation\")\n",
        "plt.title(\"Autocorrelation Function (ACF)\")\n",
        "plt.show()\n",
        "sm.graphics.tsa.plot_pacf(df2_daily.box_diff2[13:], lags=12)\n",
        "plt.xlabel(\"Lag\")\n",
        "plt.ylabel(\"Partial Autocorrelation\")\n",
        "plt.title(\"Partial Autocorrelation Function (PACF)\")\n",
        "plt.show()\n"
      ],
      "metadata": {
        "colab": {
          "base_uri": "https://localhost:8080/",
          "height": 573
        },
        "id": "Jny0VC44wq4v",
        "outputId": "c4356a3a-fe08-409a-89eb-39184b5b06e0"
      },
      "execution_count": 67,
      "outputs": [
        {
          "output_type": "display_data",
          "data": {
            "text/plain": [
              "<Figure size 432x288 with 1 Axes>"
            ],
            "image/png": "[encoded data removed]"
          },
          "metadata": {
            "needs_background": "light"
          }
        },
        {
          "output_type": "display_data",
          "data": {
            "text/plain": [
              "<Figure size 432x288 with 1 Axes>"
            ],
            "image/png": "[encoded data removed]"
          },
          "metadata": {
            "needs_background": "light"
          }
        }
      ]
    },
    {
      "cell_type": "markdown",
      "source": [
        "There are not many spikes in the plots outside the insignificant zone (shaded) so there may not be enough information available in the residuals to be extracted by AR and MA models. "
      ],
      "metadata": {
        "id": "BirdqbHVxHCi"
      }
    },
    {
      "cell_type": "markdown",
      "source": [
        "# ARIMA Model  <a name=\"ARIMAModel\"/>\n",
        "AutoRegressive Integrated Moving Average\n",
        "\n",
        "ARIMA models are denoted with the notation ARIMA(p, d, q). These parameters account for seasonality, trend, and noise in datasets:\n",
        "\n",
        "     \n",
        "\n",
        "1.  p - the number of lag observations to include in the model, or lag order.(AR)\n",
        "2.  d - the number of times that the raw observations are differenced, or the degree of differencing. (I)\n",
        "3.  q - the size of the moving average window, also called the order of moving average.(MA)\n",
        "\n",
        "\n",
        "A linear regression model is constructed including the specified number and type of terms, and the data is prepared by a degree of differencing in order to make it stationary, i.e. to remove trend and seasonal structures that negatively affect the regression model.\n",
        "A value of 0 for a parameter indicates to not use that element of the model. "
      ],
      "metadata": {
        "id": "-GwUGQjoxJ6q"
      }
    },
    {
      "cell_type": "markdown",
      "source": [
        "## Parameter Selection\n",
        "\n",
        "We will iteratively explore different combinations of parameters. For each combination we fit a new ARIMA model with SARIMAX() and assess its overall quality.\n",
        "\n",
        "We will use the AIC (Akaike Information Criterion) value, returned with ARIMA models fitted using statsmodels. The AIC measures how well a model fits the data while taking into account the overall complexity of the model. A model that fits the data very well while using lots of features will be assigned a larger AIC score than a model that uses fewer features to achieve the same goodness-of-fit. Therefore, we are interested in finding the model that yields the lowest AIC value."
      ],
      "metadata": {
        "id": "E7XV4BwcxmkJ"
      }
    },
    {
      "cell_type": "code",
      "source": [
        "from statsmodels.tsa.arima.model import ARIMA\n",
        "from statsmodels.tsa.statespace.sarimax import SARIMAX\n",
        "from itertools import product\n",
        "import warnings\n",
        "warnings.filterwarnings('ignore')\n",
        "#Split data into training and testing sets\n",
        "train_data, test_data = df2_daily['close_box'][:'2021-08-01'], df2_daily['close_box']['2021-08-02':]\n",
        "# Initial approximation of parameters\n",
        "model = ARIMA(df2_daily.close_box, order=(1, 1, 0))\n",
        "results = model.fit()\n",
        "print(results.summary())\n"
      ],
      "metadata": {
        "id": "OuIzPQoOwqf4",
        "colab": {
          "base_uri": "https://localhost:8080/"
        },
        "outputId": "b525a4ed-9a0e-4df3-c5ef-9a2ac72d3141"
      },
      "execution_count": 118,
      "outputs": [
        {
          "output_type": "stream",
          "name": "stdout",
          "text": [
            "                               SARIMAX Results                                \n",
            "==============================================================================\n",
            "Dep. Variable:              close_box   No. Observations:                 1942\n",
            "Model:                 ARIMA(1, 1, 0)   Log Likelihood                3896.599\n",
            "Date:                Sat, 04 Mar 2023   AIC                          -7789.198\n",
            "Time:                        12:03:50   BIC                          -7778.056\n",
            "Sample:                    11-09-2017   HQIC                         -7785.101\n",
            "                         - 03-04-2023                                         \n",
            "Covariance Type:                  opg                                         \n",
            "==============================================================================\n",
            "                 coef    std err          z      P>|z|      [0.025      0.975]\n",
            "------------------------------------------------------------------------------\n",
            "ar.L1         -0.0463      0.016     -2.907      0.004      -0.078      -0.015\n",
            "sigma2         0.0011   1.25e-05     84.317      0.000       0.001       0.001\n",
            "===================================================================================\n",
            "Ljung-Box (L1) (Q):                   0.01   Jarque-Bera (JB):             14064.55\n",
            "Prob(Q):                              0.91   Prob(JB):                         0.00\n",
            "Heteroskedasticity (H):               0.52   Skew:                            -1.12\n",
            "Prob(H) (two-sided):                  0.00   Kurtosis:                        16.00\n",
            "===================================================================================\n",
            "\n",
            "Warnings:\n",
            "[1] Covariance matrix calculated using the outer product of gradients (complex-step).\n"
          ]
        }
      ]
    },
    {
      "cell_type": "markdown",
      "source": [
        "## Analysis of Results  <a name=\"AnalysisARIMA\"></a>\n",
        "\n"
      ],
      "metadata": {
        "id": "6YeZeCqAESRd"
      }
    },
    {
      "cell_type": "code",
      "source": [],
      "metadata": {
        "id": "WyF1P81OM0qQ"
      },
      "execution_count": 68,
      "outputs": []
    },
    {
      "cell_type": "markdown",
      "source": [
        "##Prediction\n"
      ],
      "metadata": {
        "id": "cAKNmMKZEziz"
      }
    },
    {
      "cell_type": "code",
      "source": [
        "def invboxcox(y,lmbda):\n",
        "   if lmbda == 0:\n",
        "      return(np.exp(y))\n",
        "   else:\n",
        "      return(np.exp(np.log(lmbda*y+1)/lmbda))"
      ],
      "metadata": {
        "id": "AAOlfZHvZn7U"
      },
      "execution_count": 119,
      "outputs": []
    },
    {
      "cell_type": "code",
      "source": [
        "# inverse Box-Cox transformation and plot predicted values\n",
        "df2_daily['close_box_diff_seasonal_12_forecast'] = results.predict(start=len(train_data), end=len(train_data)+len(test_data)-1, dynamic=False)\n",
        "df2_daily['close_forecast'] = invboxcox(df2_daily.close_box_diff_seasonal_12_forecast, lmbda)\n",
        "df2_daily[['Close', 'close_forecast']].plot(figsize=(12, 8))\n",
        "plt.show()"
      ],
      "metadata": {
        "colab": {
          "base_uri": "https://localhost:8080/",
          "height": 497
        },
        "id": "jFVQE1pYTgOn",
        "outputId": "409071c5-44ad-4a32-e32f-b6ae42c5e458"
      },
      "execution_count": 120,
      "outputs": [
        {
          "output_type": "display_data",
          "data": {
            "text/plain": [
              "<Figure size 864x576 with 1 Axes>"
            ],
            "image/png": "[encoded data removed]"
          },
          "metadata": {
            "needs_background": "light"
          }
        }
      ]
    },
    {
      "cell_type": "markdown",
      "source": [
        "## Validation <a name=\"validationSARIMAX\"></a>\n",
        "\n",
        "A simple indicator of how accurate out forecast is is the root mean square error (RMSE). So lets calcualte RMSE for the one-step ahead predictions starting from 2018, through to the end of 2022.\n"
      ],
      "metadata": {
        "id": "blNVHLQBY-kR"
      }
    },
    {
      "cell_type": "code",
      "source": [
        "y_forecasted = df2_daily.close_forecast\n",
        "y_truth = df2_daily['2018-1-31':].Close\n",
        "\n",
        "# Compute the root mean square error\n",
        "rmse = np.sqrt(((y_forecasted - y_truth) ** 2).mean())\n",
        "print('Mean Squared Error: {}'.format(round(rmse, 2)))"
      ],
      "metadata": {
        "id": "X4xKZZivsCUe",
        "colab": {
          "base_uri": "https://localhost:8080/"
        },
        "outputId": "d5b59e4f-644b-42bd-d603-aa7486013570"
      },
      "execution_count": 121,
      "outputs": [
        {
          "output_type": "stream",
          "name": "stdout",
          "text": [
            "Mean Squared Error: 107.04\n"
          ]
        }
      ]
    }
  ]
}