{
  "nbformat": 4,
  "nbformat_minor": 0,
  "metadata": {
    "colab": {
      "provenance": [],
      "toc_visible": true,
      "authorship_tag": "ABX9TyPVWZt1HAg5WQrYmWljhPI8",
      "include_colab_link": true
    },
    "kernelspec": {
      "name": "python3",
      "display_name": "Python 3"
    },
    "language_info": {
      "name": "python"
    }
  },
  "cells": [
    {
      "cell_type": "markdown",
      "metadata": {
        "id": "view-in-github",
        "colab_type": "text"
      },
      "source": [
        "<a href=\"https://colab.research.google.com/github/tago893/capstone/blob/main/Day1/EdaOnTsd.ipynb\" target=\"_parent\"><img src=\"https://colab.research.google.com/assets/colab-badge.svg\" alt=\"Open In Colab\"/></a>"
      ]
    },
    {
      "cell_type": "code",
      "execution_count": null,
      "metadata": {
        "colab": {
          "base_uri": "https://localhost:8080/"
        },
        "id": "BRDviWQw5jwc",
        "outputId": "b395b67d-47fb-4cd3-b4bc-8d9027825768"
      },
      "outputs": [
        {
          "output_type": "stream",
          "name": "stdout",
          "text": [
            "Looking in indexes: https://pypi.org/simple, https://us-python.pkg.dev/colab-wheels/public/simple/\n",
            "Requirement already satisfied: pandas-datareader in /usr/local/lib/python3.8/dist-packages (0.9.0)\n",
            "Requirement already satisfied: pandas>=0.23 in /usr/local/lib/python3.8/dist-packages (from pandas-datareader) (1.3.5)\n",
            "Requirement already satisfied: requests>=2.19.0 in /usr/local/lib/python3.8/dist-packages (from pandas-datareader) (2.25.1)\n",
            "Requirement already satisfied: lxml in /usr/local/lib/python3.8/dist-packages (from pandas-datareader) (4.9.2)\n",
            "Requirement already satisfied: pytz>=2017.3 in /usr/local/lib/python3.8/dist-packages (from pandas>=0.23->pandas-datareader) (2022.7)\n",
            "Requirement already satisfied: numpy>=1.17.3 in /usr/local/lib/python3.8/dist-packages (from pandas>=0.23->pandas-datareader) (1.21.6)\n",
            "Requirement already satisfied: python-dateutil>=2.7.3 in /usr/local/lib/python3.8/dist-packages (from pandas>=0.23->pandas-datareader) (2.8.2)\n",
            "Requirement already satisfied: idna<3,>=2.5 in /usr/local/lib/python3.8/dist-packages (from requests>=2.19.0->pandas-datareader) (2.10)\n",
            "Requirement already satisfied: certifi>=2017.4.17 in /usr/local/lib/python3.8/dist-packages (from requests>=2.19.0->pandas-datareader) (2022.12.7)\n",
            "Requirement already satisfied: chardet<5,>=3.0.2 in /usr/local/lib/python3.8/dist-packages (from requests>=2.19.0->pandas-datareader) (4.0.0)\n",
            "Requirement already satisfied: urllib3<1.27,>=1.21.1 in /usr/local/lib/python3.8/dist-packages (from requests>=2.19.0->pandas-datareader) (1.24.3)\n",
            "Requirement already satisfied: six>=1.5 in /usr/local/lib/python3.8/dist-packages (from python-dateutil>=2.7.3->pandas>=0.23->pandas-datareader) (1.15.0)\n"
          ]
        }
      ],
      "source": [
        "pip install pandas-datareader"
      ]
    },
    {
      "cell_type": "code",
      "source": [
        "!pip install --upgrade pandas-datareader"
      ],
      "metadata": {
        "colab": {
          "base_uri": "https://localhost:8080/"
        },
        "id": "t8s9Q9ni6JGo",
        "outputId": "2aea4ed8-ee2f-4a30-a60e-0e43e4adffa9"
      },
      "execution_count": null,
      "outputs": [
        {
          "output_type": "stream",
          "name": "stdout",
          "text": [
            "Looking in indexes: https://pypi.org/simple, https://us-python.pkg.dev/colab-wheels/public/simple/\n",
            "Requirement already satisfied: pandas-datareader in /usr/local/lib/python3.8/dist-packages (0.9.0)\n",
            "Collecting pandas-datareader\n",
            "  Downloading pandas_datareader-0.10.0-py3-none-any.whl (109 kB)\n",
            "\u001b[2K     \u001b[90m━━━━━━━━━━━━━━━━━━━━━━━━━━━━━━━━━━━━━━━\u001b[0m \u001b[32m109.5/109.5 KB\u001b[0m \u001b[31m3.4 MB/s\u001b[0m eta \u001b[36m0:00:00\u001b[0m\n",
            "\u001b[?25hRequirement already satisfied: lxml in /usr/local/lib/python3.8/dist-packages (from pandas-datareader) (4.9.2)\n",
            "Requirement already satisfied: requests>=2.19.0 in /usr/local/lib/python3.8/dist-packages (from pandas-datareader) (2.25.1)\n",
            "Requirement already satisfied: pandas>=0.23 in /usr/local/lib/python3.8/dist-packages (from pandas-datareader) (1.3.5)\n",
            "Requirement already satisfied: pytz>=2017.3 in /usr/local/lib/python3.8/dist-packages (from pandas>=0.23->pandas-datareader) (2022.7)\n",
            "Requirement already satisfied: python-dateutil>=2.7.3 in /usr/local/lib/python3.8/dist-packages (from pandas>=0.23->pandas-datareader) (2.8.2)\n",
            "Requirement already satisfied: numpy>=1.17.3 in /usr/local/lib/python3.8/dist-packages (from pandas>=0.23->pandas-datareader) (1.21.6)\n",
            "Requirement already satisfied: certifi>=2017.4.17 in /usr/local/lib/python3.8/dist-packages (from requests>=2.19.0->pandas-datareader) (2022.12.7)\n",
            "Requirement already satisfied: chardet<5,>=3.0.2 in /usr/local/lib/python3.8/dist-packages (from requests>=2.19.0->pandas-datareader) (4.0.0)\n",
            "Requirement already satisfied: idna<3,>=2.5 in /usr/local/lib/python3.8/dist-packages (from requests>=2.19.0->pandas-datareader) (2.10)\n",
            "Requirement already satisfied: urllib3<1.27,>=1.21.1 in /usr/local/lib/python3.8/dist-packages (from requests>=2.19.0->pandas-datareader) (1.24.3)\n",
            "Requirement already satisfied: six>=1.5 in /usr/local/lib/python3.8/dist-packages (from python-dateutil>=2.7.3->pandas>=0.23->pandas-datareader) (1.15.0)\n",
            "Installing collected packages: pandas-datareader\n",
            "  Attempting uninstall: pandas-datareader\n",
            "    Found existing installation: pandas-datareader 0.9.0\n",
            "    Uninstalling pandas-datareader-0.9.0:\n",
            "      Successfully uninstalled pandas-datareader-0.9.0\n",
            "Successfully installed pandas-datareader-0.10.0\n"
          ]
        }
      ]
    },
    {
      "cell_type": "code",
      "source": [
        "!pip install yfinance --upgrade --no-cache-dir"
      ],
      "metadata": {
        "colab": {
          "base_uri": "https://localhost:8080/"
        },
        "id": "mVFbdRsA-tnm",
        "outputId": "cf6c8eec-2fdb-4ac3-a6dc-f9c458d53c1e"
      },
      "execution_count": null,
      "outputs": [
        {
          "output_type": "stream",
          "name": "stdout",
          "text": [
            "Looking in indexes: https://pypi.org/simple, https://us-python.pkg.dev/colab-wheels/public/simple/\n",
            "Collecting yfinance\n",
            "  Downloading yfinance-0.2.4-py2.py3-none-any.whl (51 kB)\n",
            "\u001b[2K     \u001b[90m━━━━━━━━━━━━━━━━━━━━━━━━━━━━━━━━━━━━━━━━\u001b[0m \u001b[32m51.4/51.4 KB\u001b[0m \u001b[31m6.6 MB/s\u001b[0m eta \u001b[36m0:00:00\u001b[0m\n",
            "\u001b[?25hCollecting beautifulsoup4>=4.11.1\n",
            "  Downloading beautifulsoup4-4.11.1-py3-none-any.whl (128 kB)\n",
            "\u001b[2K     \u001b[90m━━━━━━━━━━━━━━━━━━━━━━━━━━━━━━━━━━━━━━\u001b[0m \u001b[32m128.2/128.2 KB\u001b[0m \u001b[31m12.9 MB/s\u001b[0m eta \u001b[36m0:00:00\u001b[0m\n",
            "\u001b[?25hCollecting frozendict>=2.3.4\n",
            "  Downloading frozendict-2.3.4-cp38-cp38-manylinux_2_17_x86_64.manylinux2014_x86_64.whl (110 kB)\n",
            "\u001b[2K     \u001b[90m━━━━━━━━━━━━━━━━━━━━━━━━━━━━━━━━━━━━━\u001b[0m \u001b[32m111.0/111.0 KB\u001b[0m \u001b[31m221.0 MB/s\u001b[0m eta \u001b[36m0:00:00\u001b[0m\n",
            "\u001b[?25hRequirement already satisfied: multitasking>=0.0.7 in /usr/local/lib/python3.8/dist-packages (from yfinance) (0.0.11)\n",
            "Collecting html5lib>=1.1\n",
            "  Downloading html5lib-1.1-py2.py3-none-any.whl (112 kB)\n",
            "\u001b[2K     \u001b[90m━━━━━━━━━━━━━━━━━━━━━━━━━━━━━━━━━━━━━\u001b[0m \u001b[32m112.2/112.2 KB\u001b[0m \u001b[31m202.8 MB/s\u001b[0m eta \u001b[36m0:00:00\u001b[0m\n",
            "\u001b[?25hRequirement already satisfied: pandas>=1.3.0 in /usr/local/lib/python3.8/dist-packages (from yfinance) (1.3.5)\n",
            "Collecting requests>=2.26\n",
            "  Downloading requests-2.28.2-py3-none-any.whl (62 kB)\n",
            "\u001b[2K     \u001b[90m━━━━━━━━━━━━━━━━━━━━━━━━━━━━━━━━━━━━━━━\u001b[0m \u001b[32m62.8/62.8 KB\u001b[0m \u001b[31m186.3 MB/s\u001b[0m eta \u001b[36m0:00:00\u001b[0m\n",
            "\u001b[?25hRequirement already satisfied: numpy>=1.16.5 in /usr/local/lib/python3.8/dist-packages (from yfinance) (1.21.6)\n",
            "Requirement already satisfied: appdirs>=1.4.4 in /usr/local/lib/python3.8/dist-packages (from yfinance) (1.4.4)\n",
            "Requirement already satisfied: pytz>=2022.5 in /usr/local/lib/python3.8/dist-packages (from yfinance) (2022.7)\n",
            "Requirement already satisfied: lxml>=4.9.1 in /usr/local/lib/python3.8/dist-packages (from yfinance) (4.9.2)\n",
            "Collecting cryptography>=3.3.2\n",
            "  Downloading cryptography-39.0.0-cp36-abi3-manylinux_2_24_x86_64.whl (4.1 MB)\n",
            "\u001b[2K     \u001b[90m━━━━━━━━━━━━━━━━━━━━━━━━━━━━━━━━━━━━━━━━\u001b[0m \u001b[32m4.1/4.1 MB\u001b[0m \u001b[31m97.9 MB/s\u001b[0m eta \u001b[36m0:00:00\u001b[0m\n",
            "\u001b[?25hCollecting soupsieve>1.2\n",
            "  Downloading soupsieve-2.3.2.post1-py3-none-any.whl (37 kB)\n",
            "Requirement already satisfied: cffi>=1.12 in /usr/local/lib/python3.8/dist-packages (from cryptography>=3.3.2->yfinance) (1.15.1)\n",
            "Requirement already satisfied: six>=1.9 in /usr/local/lib/python3.8/dist-packages (from html5lib>=1.1->yfinance) (1.15.0)\n",
            "Requirement already satisfied: webencodings in /usr/local/lib/python3.8/dist-packages (from html5lib>=1.1->yfinance) (0.5.1)\n",
            "Requirement already satisfied: python-dateutil>=2.7.3 in /usr/local/lib/python3.8/dist-packages (from pandas>=1.3.0->yfinance) (2.8.2)\n",
            "Requirement already satisfied: urllib3<1.27,>=1.21.1 in /usr/local/lib/python3.8/dist-packages (from requests>=2.26->yfinance) (1.24.3)\n",
            "Requirement already satisfied: certifi>=2017.4.17 in /usr/local/lib/python3.8/dist-packages (from requests>=2.26->yfinance) (2022.12.7)\n",
            "Requirement already satisfied: charset-normalizer<4,>=2 in /usr/local/lib/python3.8/dist-packages (from requests>=2.26->yfinance) (2.1.1)\n",
            "Requirement already satisfied: idna<4,>=2.5 in /usr/local/lib/python3.8/dist-packages (from requests>=2.26->yfinance) (2.10)\n",
            "Requirement already satisfied: pycparser in /usr/local/lib/python3.8/dist-packages (from cffi>=1.12->cryptography>=3.3.2->yfinance) (2.21)\n",
            "Installing collected packages: soupsieve, requests, html5lib, frozendict, cryptography, beautifulsoup4, yfinance\n",
            "  Attempting uninstall: requests\n",
            "    Found existing installation: requests 2.25.1\n",
            "    Uninstalling requests-2.25.1:\n",
            "      Successfully uninstalled requests-2.25.1\n",
            "  Attempting uninstall: html5lib\n",
            "    Found existing installation: html5lib 1.0.1\n",
            "    Uninstalling html5lib-1.0.1:\n",
            "      Successfully uninstalled html5lib-1.0.1\n",
            "  Attempting uninstall: beautifulsoup4\n",
            "    Found existing installation: beautifulsoup4 4.6.3\n",
            "    Uninstalling beautifulsoup4-4.6.3:\n",
            "      Successfully uninstalled beautifulsoup4-4.6.3\n",
            "Successfully installed beautifulsoup4-4.11.1 cryptography-39.0.0 frozendict-2.3.4 html5lib-1.1 requests-2.28.2 soupsieve-2.3.2.post1 yfinance-0.2.4\n"
          ]
        }
      ]
    },
    {
      "cell_type": "code",
      "source": [
        "import pandas_datareader as pdr\n",
        "import pandas as pd\n",
        "from datetime import datetime"
      ],
      "metadata": {
        "id": "gvjBprlM5ug1"
      },
      "execution_count": null,
      "outputs": []
    },
    {
      "cell_type": "code",
      "source": [
        "from pandas_datareader import data as pdr\n",
        "\n",
        "import yfinance as yf\n",
        "yf.pdr_override() \n",
        "\n",
        "# download dataframe\n",
        "data = pdr.get_data_yahoo(\"ETH-USD\")"
      ],
      "metadata": {
        "colab": {
          "base_uri": "https://localhost:8080/"
        },
        "id": "rNDkzas_6I83",
        "outputId": "0ffd2770-a66e-4a94-c561-8a6e3b674d43"
      },
      "execution_count": null,
      "outputs": [
        {
          "output_type": "stream",
          "name": "stdout",
          "text": [
            "\r[*********************100%***********************]  1 of 1 completed\n"
          ]
        }
      ]
    },
    {
      "cell_type": "code",
      "source": [
        "data"
      ],
      "metadata": {
        "colab": {
          "base_uri": "https://localhost:8080/",
          "height": 455
        },
        "id": "YJ835FW7_MCo",
        "outputId": "1dbdfe72-54f7-478e-dc63-1a5ea23aff99"
      },
      "execution_count": null,
      "outputs": [
        {
          "output_type": "execute_result",
          "data": {
            "text/plain": [
              "                                  Open         High          Low        Close  \\\n",
              "Date                                                                            \n",
              "2017-11-09 00:00:00+00:00   308.644989   329.451996   307.056000   320.884003   \n",
              "2017-11-10 00:00:00+00:00   320.670990   324.717987   294.541992   299.252991   \n",
              "2017-11-11 00:00:00+00:00   298.585999   319.453003   298.191986   314.681000   \n",
              "2017-11-12 00:00:00+00:00   314.690002   319.153015   298.513000   307.907990   \n",
              "2017-11-13 00:00:00+00:00   307.024994   328.415009   307.024994   316.716003   \n",
              "...                                ...          ...          ...          ...   \n",
              "2023-01-13 00:00:00+00:00  1417.946167  1461.672729  1404.023926  1451.614868   \n",
              "2023-01-14 00:00:00+00:00  1451.428467  1563.739136  1450.988403  1550.706909   \n",
              "2023-01-15 00:00:00+00:00  1550.731567  1556.950806  1520.893799  1552.479492   \n",
              "2023-01-16 00:00:00+00:00  1552.519287  1594.039795  1529.573608  1576.833496   \n",
              "2023-01-17 00:00:00+00:00  1571.576050  1579.327393  1553.880981  1566.824097   \n",
              "\n",
              "                             Adj Close       Volume  \n",
              "Date                                                 \n",
              "2017-11-09 00:00:00+00:00   320.884003    893249984  \n",
              "2017-11-10 00:00:00+00:00   299.252991    885985984  \n",
              "2017-11-11 00:00:00+00:00   314.681000    842300992  \n",
              "2017-11-12 00:00:00+00:00   307.907990   1613479936  \n",
              "2017-11-13 00:00:00+00:00   316.716003   1041889984  \n",
              "...                                ...          ...  \n",
              "2023-01-13 00:00:00+00:00  1451.614868   7684148212  \n",
              "2023-01-14 00:00:00+00:00  1550.706909  15444626014  \n",
              "2023-01-15 00:00:00+00:00  1552.479492   6774614499  \n",
              "2023-01-16 00:00:00+00:00  1576.833496   8454485431  \n",
              "2023-01-17 00:00:00+00:00  1566.824097   8129979392  \n",
              "\n",
              "[1896 rows x 6 columns]"
            ],
            "text/html": [
              "\n",
              "  <div id=\"df-6aa384fb-962f-42be-81a3-9885c6f31cd0\">\n",
              "    <div class=\"colab-df-container\">\n",
              "      <div>\n",
              "<style scoped>\n",
              "    .dataframe tbody tr th:only-of-type {\n",
              "        vertical-align: middle;\n",
              "    }\n",
              "\n",
              "    .dataframe tbody tr th {\n",
              "        vertical-align: top;\n",
              "    }\n",
              "\n",
              "    .dataframe thead th {\n",
              "        text-align: right;\n",
              "    }\n",
              "</style>\n",
              "<table border=\"1\" class=\"dataframe\">\n",
              "  <thead>\n",
              "    <tr style=\"text-align: right;\">\n",
              "      <th></th>\n",
              "      <th>Open</th>\n",
              "      <th>High</th>\n",
              "      <th>Low</th>\n",
              "      <th>Close</th>\n",
              "      <th>Adj Close</th>\n",
              "      <th>Volume</th>\n",
              "    </tr>\n",
              "    <tr>\n",
              "      <th>Date</th>\n",
              "      <th></th>\n",
              "      <th></th>\n",
              "      <th></th>\n",
              "      <th></th>\n",
              "      <th></th>\n",
              "      <th></th>\n",
              "    </tr>\n",
              "  </thead>\n",
              "  <tbody>\n",
              "    <tr>\n",
              "      <th>2017-11-09 00:00:00+00:00</th>\n",
              "      <td>308.644989</td>\n",
              "      <td>329.451996</td>\n",
              "      <td>307.056000</td>\n",
              "      <td>320.884003</td>\n",
              "      <td>320.884003</td>\n",
              "      <td>893249984</td>\n",
              "    </tr>\n",
              "    <tr>\n",
              "      <th>2017-11-10 00:00:00+00:00</th>\n",
              "      <td>320.670990</td>\n",
              "      <td>324.717987</td>\n",
              "      <td>294.541992</td>\n",
              "      <td>299.252991</td>\n",
              "      <td>299.252991</td>\n",
              "      <td>885985984</td>\n",
              "    </tr>\n",
              "    <tr>\n",
              "      <th>2017-11-11 00:00:00+00:00</th>\n",
              "      <td>298.585999</td>\n",
              "      <td>319.453003</td>\n",
              "      <td>298.191986</td>\n",
              "      <td>314.681000</td>\n",
              "      <td>314.681000</td>\n",
              "      <td>842300992</td>\n",
              "    </tr>\n",
              "    <tr>\n",
              "      <th>2017-11-12 00:00:00+00:00</th>\n",
              "      <td>314.690002</td>\n",
              "      <td>319.153015</td>\n",
              "      <td>298.513000</td>\n",
              "      <td>307.907990</td>\n",
              "      <td>307.907990</td>\n",
              "      <td>1613479936</td>\n",
              "    </tr>\n",
              "    <tr>\n",
              "      <th>2017-11-13 00:00:00+00:00</th>\n",
              "      <td>307.024994</td>\n",
              "      <td>328.415009</td>\n",
              "      <td>307.024994</td>\n",
              "      <td>316.716003</td>\n",
              "      <td>316.716003</td>\n",
              "      <td>1041889984</td>\n",
              "    </tr>\n",
              "    <tr>\n",
              "      <th>...</th>\n",
              "      <td>...</td>\n",
              "      <td>...</td>\n",
              "      <td>...</td>\n",
              "      <td>...</td>\n",
              "      <td>...</td>\n",
              "      <td>...</td>\n",
              "    </tr>\n",
              "    <tr>\n",
              "      <th>2023-01-13 00:00:00+00:00</th>\n",
              "      <td>1417.946167</td>\n",
              "      <td>1461.672729</td>\n",
              "      <td>1404.023926</td>\n",
              "      <td>1451.614868</td>\n",
              "      <td>1451.614868</td>\n",
              "      <td>7684148212</td>\n",
              "    </tr>\n",
              "    <tr>\n",
              "      <th>2023-01-14 00:00:00+00:00</th>\n",
              "      <td>1451.428467</td>\n",
              "      <td>1563.739136</td>\n",
              "      <td>1450.988403</td>\n",
              "      <td>1550.706909</td>\n",
              "      <td>1550.706909</td>\n",
              "      <td>15444626014</td>\n",
              "    </tr>\n",
              "    <tr>\n",
              "      <th>2023-01-15 00:00:00+00:00</th>\n",
              "      <td>1550.731567</td>\n",
              "      <td>1556.950806</td>\n",
              "      <td>1520.893799</td>\n",
              "      <td>1552.479492</td>\n",
              "      <td>1552.479492</td>\n",
              "      <td>6774614499</td>\n",
              "    </tr>\n",
              "    <tr>\n",
              "      <th>2023-01-16 00:00:00+00:00</th>\n",
              "      <td>1552.519287</td>\n",
              "      <td>1594.039795</td>\n",
              "      <td>1529.573608</td>\n",
              "      <td>1576.833496</td>\n",
              "      <td>1576.833496</td>\n",
              "      <td>8454485431</td>\n",
              "    </tr>\n",
              "    <tr>\n",
              "      <th>2023-01-17 00:00:00+00:00</th>\n",
              "      <td>1571.576050</td>\n",
              "      <td>1579.327393</td>\n",
              "      <td>1553.880981</td>\n",
              "      <td>1566.824097</td>\n",
              "      <td>1566.824097</td>\n",
              "      <td>8129979392</td>\n",
              "    </tr>\n",
              "  </tbody>\n",
              "</table>\n",
              "<p>1896 rows × 6 columns</p>\n",
              "</div>\n",
              "      <button class=\"colab-df-convert\" onclick=\"convertToInteractive('df-6aa384fb-962f-42be-81a3-9885c6f31cd0')\"\n",
              "              title=\"Convert this dataframe to an interactive table.\"\n",
              "              style=\"display:none;\">\n",
              "        \n",
              "  <svg xmlns=\"http://www.w3.org/2000/svg\" height=\"24px\"viewBox=\"0 0 24 24\"\n",
              "       width=\"24px\">\n",
              "    <path d=\"M0 0h24v24H0V0z\" fill=\"none\"/>\n",
              "    <path d=\"M18.56 5.44l.94 2.06.94-2.06 2.06-.94-2.06-.94-.94-2.06-.94 2.06-2.06.94zm-11 1L8.5 8.5l.94-2.06 2.06-.94-2.06-.94L8.5 2.5l-.94 2.06-2.06.94zm10 10l.94 2.06.94-2.06 2.06-.94-2.06-.94-.94-2.06-.94 2.06-2.06.94z\"/><path d=\"M17.41 7.96l-1.37-1.37c-.4-.4-.92-.59-1.43-.59-.52 0-1.04.2-1.43.59L10.3 9.45l-7.72 7.72c-.78.78-.78 2.05 0 2.83L4 21.41c.39.39.9.59 1.41.59.51 0 1.02-.2 1.41-.59l7.78-7.78 2.81-2.81c.8-.78.8-2.07 0-2.86zM5.41 20L4 18.59l7.72-7.72 1.47 1.35L5.41 20z\"/>\n",
              "  </svg>\n",
              "      </button>\n",
              "      \n",
              "  <style>\n",
              "    .colab-df-container {\n",
              "      display:flex;\n",
              "      flex-wrap:wrap;\n",
              "      gap: 12px;\n",
              "    }\n",
              "\n",
              "    .colab-df-convert {\n",
              "      background-color: #E8F0FE;\n",
              "      border: none;\n",
              "      border-radius: 50%;\n",
              "      cursor: pointer;\n",
              "      display: none;\n",
              "      fill: #1967D2;\n",
              "      height: 32px;\n",
              "      padding: 0 0 0 0;\n",
              "      width: 32px;\n",
              "    }\n",
              "\n",
              "    .colab-df-convert:hover {\n",
              "      background-color: #E2EBFA;\n",
              "      box-shadow: 0px 1px 2px rgba(60, 64, 67, 0.3), 0px 1px 3px 1px rgba(60, 64, 67, 0.15);\n",
              "      fill: #174EA6;\n",
              "    }\n",
              "\n",
              "    [theme=dark] .colab-df-convert {\n",
              "      background-color: #3B4455;\n",
              "      fill: #D2E3FC;\n",
              "    }\n",
              "\n",
              "    [theme=dark] .colab-df-convert:hover {\n",
              "      background-color: #434B5C;\n",
              "      box-shadow: 0px 1px 3px 1px rgba(0, 0, 0, 0.15);\n",
              "      filter: drop-shadow(0px 1px 2px rgba(0, 0, 0, 0.3));\n",
              "      fill: #FFFFFF;\n",
              "    }\n",
              "  </style>\n",
              "\n",
              "      <script>\n",
              "        const buttonEl =\n",
              "          document.querySelector('#df-6aa384fb-962f-42be-81a3-9885c6f31cd0 button.colab-df-convert');\n",
              "        buttonEl.style.display =\n",
              "          google.colab.kernel.accessAllowed ? 'block' : 'none';\n",
              "\n",
              "        async function convertToInteractive(key) {\n",
              "          const element = document.querySelector('#df-6aa384fb-962f-42be-81a3-9885c6f31cd0');\n",
              "          const dataTable =\n",
              "            await google.colab.kernel.invokeFunction('convertToInteractive',\n",
              "                                                     [key], {});\n",
              "          if (!dataTable) return;\n",
              "\n",
              "          const docLinkHtml = 'Like what you see? Visit the ' +\n",
              "            '<a target=\"_blank\" href=https://colab.research.google.com/notebooks/data_table.ipynb>data table notebook</a>'\n",
              "            + ' to learn more about interactive tables.';\n",
              "          element.innerHTML = '';\n",
              "          dataTable['output_type'] = 'display_data';\n",
              "          await google.colab.output.renderOutput(dataTable, element);\n",
              "          const docLink = document.createElement('div');\n",
              "          docLink.innerHTML = docLinkHtml;\n",
              "          element.appendChild(docLink);\n",
              "        }\n",
              "      </script>\n",
              "    </div>\n",
              "  </div>\n",
              "  "
            ]
          },
          "metadata": {},
          "execution_count": 6
        }
      ]
    },
    {
      "cell_type": "markdown",
      "source": [
        "# VISUALIZATION\n"
      ],
      "metadata": {
        "id": "1rXCBRyTrM4y"
      }
    },
    {
      "cell_type": "code",
      "source": [
        "import matplotlib.pyplot as plt\n",
        "import seaborn as sns"
      ],
      "metadata": {
        "id": "bR0Fbh666Iwx"
      },
      "execution_count": null,
      "outputs": []
    },
    {
      "cell_type": "code",
      "source": [
        "selected_columns = ['Open', 'High', 'Low', 'Close','Adj Close','Volume']\n",
        "data[selected_columns].plot(subplots=True, figsize=(12,10))\n",
        "plt.title('ETH coin attributes')\n",
        "plt.show()"
      ],
      "metadata": {
        "id": "TqhbDHny_MQj",
        "outputId": "031c923b-995c-4508-bd58-693db292a83f",
        "colab": {
          "base_uri": "https://localhost:8080/",
          "height": 606
        }
      },
      "execution_count": null,
      "outputs": [
        {
          "output_type": "display_data",
          "data": {
            "text/plain": [
              "<Figure size 864x720 with 6 Axes>"
            ],
            "image/png": "[encoded data removed]"
          },
          "metadata": {
            "needs_background": "light"
          }
        }
      ]
    },
    {
      "cell_type": "code",
      "source": [
        "df2=pdr.get_data_yahoo(\"ETH-USD\",end=\"2022-12-31\")\n",
        "del df2[\"Adj Close\"]\n"
      ],
      "metadata": {
        "id": "gLLwi5pe_MbM",
        "outputId": "ab290355-55d9-477a-8f30-7300ad4d2055",
        "colab": {
          "base_uri": "https://localhost:8080/"
        }
      },
      "execution_count": null,
      "outputs": [
        {
          "output_type": "stream",
          "name": "stdout",
          "text": [
            "\r[*********************100%***********************]  1 of 1 completed\n"
          ]
        }
      ]
    },
    {
      "cell_type": "code",
      "source": [
        "df2"
      ],
      "metadata": {
        "id": "x25fCDNfysko",
        "outputId": "50a23d55-09d7-4608-a1cf-3aab391f426d",
        "colab": {
          "base_uri": "https://localhost:8080/",
          "height": 455
        }
      },
      "execution_count": null,
      "outputs": [
        {
          "output_type": "execute_result",
          "data": {
            "text/plain": [
              "                                  Open         High          Low        Close  \\\n",
              "Date                                                                            \n",
              "2017-11-09 00:00:00+00:00   308.644989   329.451996   307.056000   320.884003   \n",
              "2017-11-10 00:00:00+00:00   320.670990   324.717987   294.541992   299.252991   \n",
              "2017-11-11 00:00:00+00:00   298.585999   319.453003   298.191986   314.681000   \n",
              "2017-11-12 00:00:00+00:00   314.690002   319.153015   298.513000   307.907990   \n",
              "2017-11-13 00:00:00+00:00   307.024994   328.415009   307.024994   316.716003   \n",
              "...                                ...          ...          ...          ...   \n",
              "2022-12-26 00:00:00+00:00  1218.920166  1226.974365  1214.335938  1226.974365   \n",
              "2022-12-27 00:00:00+00:00  1226.987061  1230.418091  1205.895630  1212.791626   \n",
              "2022-12-28 00:00:00+00:00  1212.736572  1213.128906  1185.702148  1189.986084   \n",
              "2022-12-29 00:00:00+00:00  1190.010132  1204.141602  1188.360229  1201.595337   \n",
              "2022-12-30 00:00:00+00:00  1201.569580  1202.034668  1187.462524  1199.232788   \n",
              "\n",
              "                               Volume  \n",
              "Date                                   \n",
              "2017-11-09 00:00:00+00:00   893249984  \n",
              "2017-11-10 00:00:00+00:00   885985984  \n",
              "2017-11-11 00:00:00+00:00   842300992  \n",
              "2017-11-12 00:00:00+00:00  1613479936  \n",
              "2017-11-13 00:00:00+00:00  1041889984  \n",
              "...                               ...  \n",
              "2022-12-26 00:00:00+00:00  3282098400  \n",
              "2022-12-27 00:00:00+00:00  4091530737  \n",
              "2022-12-28 00:00:00+00:00  4991669631  \n",
              "2022-12-29 00:00:00+00:00  4132233940  \n",
              "2022-12-30 00:00:00+00:00  4055668253  \n",
              "\n",
              "[1878 rows x 5 columns]"
            ],
            "text/html": [
              "\n",
              "  <div id=\"df-43ec27cb-988f-45a9-8837-dfe3b1d81393\">\n",
              "    <div class=\"colab-df-container\">\n",
              "      <div>\n",
              "<style scoped>\n",
              "    .dataframe tbody tr th:only-of-type {\n",
              "        vertical-align: middle;\n",
              "    }\n",
              "\n",
              "    .dataframe tbody tr th {\n",
              "        vertical-align: top;\n",
              "    }\n",
              "\n",
              "    .dataframe thead th {\n",
              "        text-align: right;\n",
              "    }\n",
              "</style>\n",
              "<table border=\"1\" class=\"dataframe\">\n",
              "  <thead>\n",
              "    <tr style=\"text-align: right;\">\n",
              "      <th></th>\n",
              "      <th>Open</th>\n",
              "      <th>High</th>\n",
              "      <th>Low</th>\n",
              "      <th>Close</th>\n",
              "      <th>Volume</th>\n",
              "    </tr>\n",
              "    <tr>\n",
              "      <th>Date</th>\n",
              "      <th></th>\n",
              "      <th></th>\n",
              "      <th></th>\n",
              "      <th></th>\n",
              "      <th></th>\n",
              "    </tr>\n",
              "  </thead>\n",
              "  <tbody>\n",
              "    <tr>\n",
              "      <th>2017-11-09 00:00:00+00:00</th>\n",
              "      <td>308.644989</td>\n",
              "      <td>329.451996</td>\n",
              "      <td>307.056000</td>\n",
              "      <td>320.884003</td>\n",
              "      <td>893249984</td>\n",
              "    </tr>\n",
              "    <tr>\n",
              "      <th>2017-11-10 00:00:00+00:00</th>\n",
              "      <td>320.670990</td>\n",
              "      <td>324.717987</td>\n",
              "      <td>294.541992</td>\n",
              "      <td>299.252991</td>\n",
              "      <td>885985984</td>\n",
              "    </tr>\n",
              "    <tr>\n",
              "      <th>2017-11-11 00:00:00+00:00</th>\n",
              "      <td>298.585999</td>\n",
              "      <td>319.453003</td>\n",
              "      <td>298.191986</td>\n",
              "      <td>314.681000</td>\n",
              "      <td>842300992</td>\n",
              "    </tr>\n",
              "    <tr>\n",
              "      <th>2017-11-12 00:00:00+00:00</th>\n",
              "      <td>314.690002</td>\n",
              "      <td>319.153015</td>\n",
              "      <td>298.513000</td>\n",
              "      <td>307.907990</td>\n",
              "      <td>1613479936</td>\n",
              "    </tr>\n",
              "    <tr>\n",
              "      <th>2017-11-13 00:00:00+00:00</th>\n",
              "      <td>307.024994</td>\n",
              "      <td>328.415009</td>\n",
              "      <td>307.024994</td>\n",
              "      <td>316.716003</td>\n",
              "      <td>1041889984</td>\n",
              "    </tr>\n",
              "    <tr>\n",
              "      <th>...</th>\n",
              "      <td>...</td>\n",
              "      <td>...</td>\n",
              "      <td>...</td>\n",
              "      <td>...</td>\n",
              "      <td>...</td>\n",
              "    </tr>\n",
              "    <tr>\n",
              "      <th>2022-12-26 00:00:00+00:00</th>\n",
              "      <td>1218.920166</td>\n",
              "      <td>1226.974365</td>\n",
              "      <td>1214.335938</td>\n",
              "      <td>1226.974365</td>\n",
              "      <td>3282098400</td>\n",
              "    </tr>\n",
              "    <tr>\n",
              "      <th>2022-12-27 00:00:00+00:00</th>\n",
              "      <td>1226.987061</td>\n",
              "      <td>1230.418091</td>\n",
              "      <td>1205.895630</td>\n",
              "      <td>1212.791626</td>\n",
              "      <td>4091530737</td>\n",
              "    </tr>\n",
              "    <tr>\n",
              "      <th>2022-12-28 00:00:00+00:00</th>\n",
              "      <td>1212.736572</td>\n",
              "      <td>1213.128906</td>\n",
              "      <td>1185.702148</td>\n",
              "      <td>1189.986084</td>\n",
              "      <td>4991669631</td>\n",
              "    </tr>\n",
              "    <tr>\n",
              "      <th>2022-12-29 00:00:00+00:00</th>\n",
              "      <td>1190.010132</td>\n",
              "      <td>1204.141602</td>\n",
              "      <td>1188.360229</td>\n",
              "      <td>1201.595337</td>\n",
              "      <td>4132233940</td>\n",
              "    </tr>\n",
              "    <tr>\n",
              "      <th>2022-12-30 00:00:00+00:00</th>\n",
              "      <td>1201.569580</td>\n",
              "      <td>1202.034668</td>\n",
              "      <td>1187.462524</td>\n",
              "      <td>1199.232788</td>\n",
              "      <td>4055668253</td>\n",
              "    </tr>\n",
              "  </tbody>\n",
              "</table>\n",
              "<p>1878 rows × 5 columns</p>\n",
              "</div>\n",
              "      <button class=\"colab-df-convert\" onclick=\"convertToInteractive('df-43ec27cb-988f-45a9-8837-dfe3b1d81393')\"\n",
              "              title=\"Convert this dataframe to an interactive table.\"\n",
              "              style=\"display:none;\">\n",
              "        \n",
              "  <svg xmlns=\"http://www.w3.org/2000/svg\" height=\"24px\"viewBox=\"0 0 24 24\"\n",
              "       width=\"24px\">\n",
              "    <path d=\"M0 0h24v24H0V0z\" fill=\"none\"/>\n",
              "    <path d=\"M18.56 5.44l.94 2.06.94-2.06 2.06-.94-2.06-.94-.94-2.06-.94 2.06-2.06.94zm-11 1L8.5 8.5l.94-2.06 2.06-.94-2.06-.94L8.5 2.5l-.94 2.06-2.06.94zm10 10l.94 2.06.94-2.06 2.06-.94-2.06-.94-.94-2.06-.94 2.06-2.06.94z\"/><path d=\"M17.41 7.96l-1.37-1.37c-.4-.4-.92-.59-1.43-.59-.52 0-1.04.2-1.43.59L10.3 9.45l-7.72 7.72c-.78.78-.78 2.05 0 2.83L4 21.41c.39.39.9.59 1.41.59.51 0 1.02-.2 1.41-.59l7.78-7.78 2.81-2.81c.8-.78.8-2.07 0-2.86zM5.41 20L4 18.59l7.72-7.72 1.47 1.35L5.41 20z\"/>\n",
              "  </svg>\n",
              "      </button>\n",
              "      \n",
              "  <style>\n",
              "    .colab-df-container {\n",
              "      display:flex;\n",
              "      flex-wrap:wrap;\n",
              "      gap: 12px;\n",
              "    }\n",
              "\n",
              "    .colab-df-convert {\n",
              "      background-color: #E8F0FE;\n",
              "      border: none;\n",
              "      border-radius: 50%;\n",
              "      cursor: pointer;\n",
              "      display: none;\n",
              "      fill: #1967D2;\n",
              "      height: 32px;\n",
              "      padding: 0 0 0 0;\n",
              "      width: 32px;\n",
              "    }\n",
              "\n",
              "    .colab-df-convert:hover {\n",
              "      background-color: #E2EBFA;\n",
              "      box-shadow: 0px 1px 2px rgba(60, 64, 67, 0.3), 0px 1px 3px 1px rgba(60, 64, 67, 0.15);\n",
              "      fill: #174EA6;\n",
              "    }\n",
              "\n",
              "    [theme=dark] .colab-df-convert {\n",
              "      background-color: #3B4455;\n",
              "      fill: #D2E3FC;\n",
              "    }\n",
              "\n",
              "    [theme=dark] .colab-df-convert:hover {\n",
              "      background-color: #434B5C;\n",
              "      box-shadow: 0px 1px 3px 1px rgba(0, 0, 0, 0.15);\n",
              "      filter: drop-shadow(0px 1px 2px rgba(0, 0, 0, 0.3));\n",
              "      fill: #FFFFFF;\n",
              "    }\n",
              "  </style>\n",
              "\n",
              "      <script>\n",
              "        const buttonEl =\n",
              "          document.querySelector('#df-43ec27cb-988f-45a9-8837-dfe3b1d81393 button.colab-df-convert');\n",
              "        buttonEl.style.display =\n",
              "          google.colab.kernel.accessAllowed ? 'block' : 'none';\n",
              "\n",
              "        async function convertToInteractive(key) {\n",
              "          const element = document.querySelector('#df-43ec27cb-988f-45a9-8837-dfe3b1d81393');\n",
              "          const dataTable =\n",
              "            await google.colab.kernel.invokeFunction('convertToInteractive',\n",
              "                                                     [key], {});\n",
              "          if (!dataTable) return;\n",
              "\n",
              "          const docLinkHtml = 'Like what you see? Visit the ' +\n",
              "            '<a target=\"_blank\" href=https://colab.research.google.com/notebooks/data_table.ipynb>data table notebook</a>'\n",
              "            + ' to learn more about interactive tables.';\n",
              "          element.innerHTML = '';\n",
              "          dataTable['output_type'] = 'display_data';\n",
              "          await google.colab.output.renderOutput(dataTable, element);\n",
              "          const docLink = document.createElement('div');\n",
              "          docLink.innerHTML = docLinkHtml;\n",
              "          element.appendChild(docLink);\n",
              "        }\n",
              "      </script>\n",
              "    </div>\n",
              "  </div>\n",
              "  "
            ]
          },
          "metadata": {},
          "execution_count": 51
        }
      ]
    },
    {
      "cell_type": "code",
      "source": [
        "df2.index"
      ],
      "metadata": {
        "id": "H4R03ci4O9Fh",
        "outputId": "7ecbc9f8-ea19-4893-e78c-80b0c6f6c698",
        "colab": {
          "base_uri": "https://localhost:8080/"
        }
      },
      "execution_count": null,
      "outputs": [
        {
          "output_type": "execute_result",
          "data": {
            "text/plain": [
              "DatetimeIndex(['2017-11-09 00:00:00+00:00', '2017-11-10 00:00:00+00:00',\n",
              "               '2017-11-11 00:00:00+00:00', '2017-11-12 00:00:00+00:00',\n",
              "               '2017-11-13 00:00:00+00:00', '2017-11-14 00:00:00+00:00',\n",
              "               '2017-11-15 00:00:00+00:00', '2017-11-16 00:00:00+00:00',\n",
              "               '2017-11-17 00:00:00+00:00', '2017-11-18 00:00:00+00:00',\n",
              "               ...\n",
              "               '2022-12-21 00:00:00+00:00', '2022-12-22 00:00:00+00:00',\n",
              "               '2022-12-23 00:00:00+00:00', '2022-12-24 00:00:00+00:00',\n",
              "               '2022-12-25 00:00:00+00:00', '2022-12-26 00:00:00+00:00',\n",
              "               '2022-12-27 00:00:00+00:00', '2022-12-28 00:00:00+00:00',\n",
              "               '2022-12-29 00:00:00+00:00', '2022-12-30 00:00:00+00:00'],\n",
              "              dtype='datetime64[ns, UTC]', name='Date', length=1878, freq=None)"
            ]
          },
          "metadata": {},
          "execution_count": 52
        }
      ]
    },
    {
      "cell_type": "code",
      "source": [
        "df2.describe()"
      ],
      "metadata": {
        "id": "hnJjauDruPU1",
        "outputId": "3d037f26-48ad-457a-e7a8-fec2db0fc06d",
        "colab": {
          "base_uri": "https://localhost:8080/",
          "height": 300
        }
      },
      "execution_count": null,
      "outputs": [
        {
          "output_type": "execute_result",
          "data": {
            "text/plain": [
              "              Open         High          Low        Close        Volume\n",
              "count  1878.000000  1878.000000  1878.000000  1878.000000  1.878000e+03\n",
              "mean   1129.623133  1165.957541  1088.267687  1129.866214  1.290502e+10\n",
              "std    1188.875961  1225.196969  1146.809509  1188.248177  1.078973e+10\n",
              "min      84.279694    85.342743    82.829887    84.308296  6.217330e+08\n",
              "25%     211.154552   216.100323   206.291225   211.273056  4.482132e+09\n",
              "50%     501.859009   522.925995   487.873993   502.186005  1.063680e+10\n",
              "75%    1778.226990  1818.347504  1707.129456  1776.031830  1.819766e+10\n",
              "max    4810.071289  4891.704590  4718.039062  4812.087402  8.448291e+10"
            ],
            "text/html": [
              "\n",
              "  <div id=\"df-5dca0a3a-1e76-4f2f-ad51-6b5d32a0ce44\">\n",
              "    <div class=\"colab-df-container\">\n",
              "      <div>\n",
              "<style scoped>\n",
              "    .dataframe tbody tr th:only-of-type {\n",
              "        vertical-align: middle;\n",
              "    }\n",
              "\n",
              "    .dataframe tbody tr th {\n",
              "        vertical-align: top;\n",
              "    }\n",
              "\n",
              "    .dataframe thead th {\n",
              "        text-align: right;\n",
              "    }\n",
              "</style>\n",
              "<table border=\"1\" class=\"dataframe\">\n",
              "  <thead>\n",
              "    <tr style=\"text-align: right;\">\n",
              "      <th></th>\n",
              "      <th>Open</th>\n",
              "      <th>High</th>\n",
              "      <th>Low</th>\n",
              "      <th>Close</th>\n",
              "      <th>Volume</th>\n",
              "    </tr>\n",
              "  </thead>\n",
              "  <tbody>\n",
              "    <tr>\n",
              "      <th>count</th>\n",
              "      <td>1878.000000</td>\n",
              "      <td>1878.000000</td>\n",
              "      <td>1878.000000</td>\n",
              "      <td>1878.000000</td>\n",
              "      <td>1.878000e+03</td>\n",
              "    </tr>\n",
              "    <tr>\n",
              "      <th>mean</th>\n",
              "      <td>1129.623133</td>\n",
              "      <td>1165.957541</td>\n",
              "      <td>1088.267687</td>\n",
              "      <td>1129.866214</td>\n",
              "      <td>1.290502e+10</td>\n",
              "    </tr>\n",
              "    <tr>\n",
              "      <th>std</th>\n",
              "      <td>1188.875961</td>\n",
              "      <td>1225.196969</td>\n",
              "      <td>1146.809509</td>\n",
              "      <td>1188.248177</td>\n",
              "      <td>1.078973e+10</td>\n",
              "    </tr>\n",
              "    <tr>\n",
              "      <th>min</th>\n",
              "      <td>84.279694</td>\n",
              "      <td>85.342743</td>\n",
              "      <td>82.829887</td>\n",
              "      <td>84.308296</td>\n",
              "      <td>6.217330e+08</td>\n",
              "    </tr>\n",
              "    <tr>\n",
              "      <th>25%</th>\n",
              "      <td>211.154552</td>\n",
              "      <td>216.100323</td>\n",
              "      <td>206.291225</td>\n",
              "      <td>211.273056</td>\n",
              "      <td>4.482132e+09</td>\n",
              "    </tr>\n",
              "    <tr>\n",
              "      <th>50%</th>\n",
              "      <td>501.859009</td>\n",
              "      <td>522.925995</td>\n",
              "      <td>487.873993</td>\n",
              "      <td>502.186005</td>\n",
              "      <td>1.063680e+10</td>\n",
              "    </tr>\n",
              "    <tr>\n",
              "      <th>75%</th>\n",
              "      <td>1778.226990</td>\n",
              "      <td>1818.347504</td>\n",
              "      <td>1707.129456</td>\n",
              "      <td>1776.031830</td>\n",
              "      <td>1.819766e+10</td>\n",
              "    </tr>\n",
              "    <tr>\n",
              "      <th>max</th>\n",
              "      <td>4810.071289</td>\n",
              "      <td>4891.704590</td>\n",
              "      <td>4718.039062</td>\n",
              "      <td>4812.087402</td>\n",
              "      <td>8.448291e+10</td>\n",
              "    </tr>\n",
              "  </tbody>\n",
              "</table>\n",
              "</div>\n",
              "      <button class=\"colab-df-convert\" onclick=\"convertToInteractive('df-5dca0a3a-1e76-4f2f-ad51-6b5d32a0ce44')\"\n",
              "              title=\"Convert this dataframe to an interactive table.\"\n",
              "              style=\"display:none;\">\n",
              "        \n",
              "  <svg xmlns=\"http://www.w3.org/2000/svg\" height=\"24px\"viewBox=\"0 0 24 24\"\n",
              "       width=\"24px\">\n",
              "    <path d=\"M0 0h24v24H0V0z\" fill=\"none\"/>\n",
              "    <path d=\"M18.56 5.44l.94 2.06.94-2.06 2.06-.94-2.06-.94-.94-2.06-.94 2.06-2.06.94zm-11 1L8.5 8.5l.94-2.06 2.06-.94-2.06-.94L8.5 2.5l-.94 2.06-2.06.94zm10 10l.94 2.06.94-2.06 2.06-.94-2.06-.94-.94-2.06-.94 2.06-2.06.94z\"/><path d=\"M17.41 7.96l-1.37-1.37c-.4-.4-.92-.59-1.43-.59-.52 0-1.04.2-1.43.59L10.3 9.45l-7.72 7.72c-.78.78-.78 2.05 0 2.83L4 21.41c.39.39.9.59 1.41.59.51 0 1.02-.2 1.41-.59l7.78-7.78 2.81-2.81c.8-.78.8-2.07 0-2.86zM5.41 20L4 18.59l7.72-7.72 1.47 1.35L5.41 20z\"/>\n",
              "  </svg>\n",
              "      </button>\n",
              "      \n",
              "  <style>\n",
              "    .colab-df-container {\n",
              "      display:flex;\n",
              "      flex-wrap:wrap;\n",
              "      gap: 12px;\n",
              "    }\n",
              "\n",
              "    .colab-df-convert {\n",
              "      background-color: #E8F0FE;\n",
              "      border: none;\n",
              "      border-radius: 50%;\n",
              "      cursor: pointer;\n",
              "      display: none;\n",
              "      fill: #1967D2;\n",
              "      height: 32px;\n",
              "      padding: 0 0 0 0;\n",
              "      width: 32px;\n",
              "    }\n",
              "\n",
              "    .colab-df-convert:hover {\n",
              "      background-color: #E2EBFA;\n",
              "      box-shadow: 0px 1px 2px rgba(60, 64, 67, 0.3), 0px 1px 3px 1px rgba(60, 64, 67, 0.15);\n",
              "      fill: #174EA6;\n",
              "    }\n",
              "\n",
              "    [theme=dark] .colab-df-convert {\n",
              "      background-color: #3B4455;\n",
              "      fill: #D2E3FC;\n",
              "    }\n",
              "\n",
              "    [theme=dark] .colab-df-convert:hover {\n",
              "      background-color: #434B5C;\n",
              "      box-shadow: 0px 1px 3px 1px rgba(0, 0, 0, 0.15);\n",
              "      filter: drop-shadow(0px 1px 2px rgba(0, 0, 0, 0.3));\n",
              "      fill: #FFFFFF;\n",
              "    }\n",
              "  </style>\n",
              "\n",
              "      <script>\n",
              "        const buttonEl =\n",
              "          document.querySelector('#df-5dca0a3a-1e76-4f2f-ad51-6b5d32a0ce44 button.colab-df-convert');\n",
              "        buttonEl.style.display =\n",
              "          google.colab.kernel.accessAllowed ? 'block' : 'none';\n",
              "\n",
              "        async function convertToInteractive(key) {\n",
              "          const element = document.querySelector('#df-5dca0a3a-1e76-4f2f-ad51-6b5d32a0ce44');\n",
              "          const dataTable =\n",
              "            await google.colab.kernel.invokeFunction('convertToInteractive',\n",
              "                                                     [key], {});\n",
              "          if (!dataTable) return;\n",
              "\n",
              "          const docLinkHtml = 'Like what you see? Visit the ' +\n",
              "            '<a target=\"_blank\" href=https://colab.research.google.com/notebooks/data_table.ipynb>data table notebook</a>'\n",
              "            + ' to learn more about interactive tables.';\n",
              "          element.innerHTML = '';\n",
              "          dataTable['output_type'] = 'display_data';\n",
              "          await google.colab.output.renderOutput(dataTable, element);\n",
              "          const docLink = document.createElement('div');\n",
              "          docLink.innerHTML = docLinkHtml;\n",
              "          element.appendChild(docLink);\n",
              "        }\n",
              "      </script>\n",
              "    </div>\n",
              "  </div>\n",
              "  "
            ]
          },
          "metadata": {},
          "execution_count": 73
        }
      ]
    },
    {
      "cell_type": "code",
      "source": [
        "df2['Close'].plot(xlim=['01-01-2020','31-12-2022'],figsize=(12,4))"
      ],
      "metadata": {
        "id": "zGLLzXF5O8_4",
        "outputId": "89f11a89-23a1-4222-fcb0-07c16e8b7828",
        "colab": {
          "base_uri": "https://localhost:8080/",
          "height": 310
        }
      },
      "execution_count": null,
      "outputs": [
        {
          "output_type": "execute_result",
          "data": {
            "text/plain": [
              "<matplotlib.axes._subplots.AxesSubplot at 0x7f376d9c86d0>"
            ]
          },
          "metadata": {},
          "execution_count": 53
        },
        {
          "output_type": "display_data",
          "data": {
            "text/plain": [
              "<Figure size 864x288 with 1 Axes>"
            ],
            "image/png": "[encoded data removed]"
          },
          "metadata": {
            "needs_background": "light"
          }
        }
      ]
    },
    {
      "cell_type": "markdown",
      "source": [
        "# **Re-sampling:**\n",
        "Resampling is a series of techniques used in statistics to gather additional information about a sample. This may involve re-sampling or estimating its accuracy.\n",
        "\n",
        "Techniques used are mentioned below:\n"
      ],
      "metadata": {
        "id": "0O2x5HLI3ZZw"
      }
    },
    {
      "cell_type": "markdown",
      "source": [
        "**1) Year end Frequency of the closing price**"
      ],
      "metadata": {
        "id": "WL4kRfeiVha7"
      }
    },
    {
      "cell_type": "markdown",
      "source": [
        "This plot helps us visualize the max and min values of years helping us\n",
        "infering that:\n",
        "\n",
        "1. Year 2021 has the maximum closing price by the end of the year\n",
        "\n",
        "2.  Year 2018 has the minimum closing price by the end of the year\n",
        "\n",
        "3. From year 2018 to 2020 there has been a constant value of closing price and in 2022 the low price has increased and max price has gone down a bit compared to\n",
        "2021  "
      ],
      "metadata": {
        "id": "_mKKUzIBlHm8"
      }
    },
    {
      "cell_type": "code",
      "source": [
        "df2.resample(rule='A').max()"
      ],
      "metadata": {
        "id": "ULl2Z1NE75w-",
        "outputId": "808d3276-7ce9-4051-ece5-d579c382c67e",
        "colab": {
          "base_uri": "https://localhost:8080/",
          "height": 269
        }
      },
      "execution_count": null,
      "outputs": [
        {
          "output_type": "execute_result",
          "data": {
            "text/plain": [
              "                                  Open         High          Low        Close  \\\n",
              "Date                                                                            \n",
              "2017-12-31 00:00:00+00:00   827.515991   881.943970   792.689026   826.822998   \n",
              "2018-12-31 00:00:00+00:00  1397.479980  1432.880005  1290.599976  1396.420044   \n",
              "2019-12-31 00:00:00+00:00   336.959900   361.398682   315.954865   336.753174   \n",
              "2020-12-31 00:00:00+00:00   751.626648   754.303223   726.511902   751.618958   \n",
              "2021-12-31 00:00:00+00:00  4810.071289  4891.704590  4718.039062  4812.087402   \n",
              "2022-12-31 00:00:00+00:00  3829.535645  3876.785156  3727.357422  3829.564941   \n",
              "\n",
              "                                Volume  \n",
              "Date                                    \n",
              "2017-12-31 00:00:00+00:00   5179829760  \n",
              "2018-12-31 00:00:00+00:00   9214950400  \n",
              "2019-12-31 00:00:00+00:00  18661465873  \n",
              "2020-12-31 00:00:00+00:00  31421134556  \n",
              "2021-12-31 00:00:00+00:00  84482912776  \n",
              "2022-12-31 00:00:00+00:00  45743399154  "
            ],
            "text/html": [
              "\n",
              "  <div id=\"df-ba5cd6fe-62ee-46f1-bf1f-4b001cecf96e\">\n",
              "    <div class=\"colab-df-container\">\n",
              "      <div>\n",
              "<style scoped>\n",
              "    .dataframe tbody tr th:only-of-type {\n",
              "        vertical-align: middle;\n",
              "    }\n",
              "\n",
              "    .dataframe tbody tr th {\n",
              "        vertical-align: top;\n",
              "    }\n",
              "\n",
              "    .dataframe thead th {\n",
              "        text-align: right;\n",
              "    }\n",
              "</style>\n",
              "<table border=\"1\" class=\"dataframe\">\n",
              "  <thead>\n",
              "    <tr style=\"text-align: right;\">\n",
              "      <th></th>\n",
              "      <th>Open</th>\n",
              "      <th>High</th>\n",
              "      <th>Low</th>\n",
              "      <th>Close</th>\n",
              "      <th>Volume</th>\n",
              "    </tr>\n",
              "    <tr>\n",
              "      <th>Date</th>\n",
              "      <th></th>\n",
              "      <th></th>\n",
              "      <th></th>\n",
              "      <th></th>\n",
              "      <th></th>\n",
              "    </tr>\n",
              "  </thead>\n",
              "  <tbody>\n",
              "    <tr>\n",
              "      <th>2017-12-31 00:00:00+00:00</th>\n",
              "      <td>827.515991</td>\n",
              "      <td>881.943970</td>\n",
              "      <td>792.689026</td>\n",
              "      <td>826.822998</td>\n",
              "      <td>5179829760</td>\n",
              "    </tr>\n",
              "    <tr>\n",
              "      <th>2018-12-31 00:00:00+00:00</th>\n",
              "      <td>1397.479980</td>\n",
              "      <td>1432.880005</td>\n",
              "      <td>1290.599976</td>\n",
              "      <td>1396.420044</td>\n",
              "      <td>9214950400</td>\n",
              "    </tr>\n",
              "    <tr>\n",
              "      <th>2019-12-31 00:00:00+00:00</th>\n",
              "      <td>336.959900</td>\n",
              "      <td>361.398682</td>\n",
              "      <td>315.954865</td>\n",
              "      <td>336.753174</td>\n",
              "      <td>18661465873</td>\n",
              "    </tr>\n",
              "    <tr>\n",
              "      <th>2020-12-31 00:00:00+00:00</th>\n",
              "      <td>751.626648</td>\n",
              "      <td>754.303223</td>\n",
              "      <td>726.511902</td>\n",
              "      <td>751.618958</td>\n",
              "      <td>31421134556</td>\n",
              "    </tr>\n",
              "    <tr>\n",
              "      <th>2021-12-31 00:00:00+00:00</th>\n",
              "      <td>4810.071289</td>\n",
              "      <td>4891.704590</td>\n",
              "      <td>4718.039062</td>\n",
              "      <td>4812.087402</td>\n",
              "      <td>84482912776</td>\n",
              "    </tr>\n",
              "    <tr>\n",
              "      <th>2022-12-31 00:00:00+00:00</th>\n",
              "      <td>3829.535645</td>\n",
              "      <td>3876.785156</td>\n",
              "      <td>3727.357422</td>\n",
              "      <td>3829.564941</td>\n",
              "      <td>45743399154</td>\n",
              "    </tr>\n",
              "  </tbody>\n",
              "</table>\n",
              "</div>\n",
              "      <button class=\"colab-df-convert\" onclick=\"convertToInteractive('df-ba5cd6fe-62ee-46f1-bf1f-4b001cecf96e')\"\n",
              "              title=\"Convert this dataframe to an interactive table.\"\n",
              "              style=\"display:none;\">\n",
              "        \n",
              "  <svg xmlns=\"http://www.w3.org/2000/svg\" height=\"24px\"viewBox=\"0 0 24 24\"\n",
              "       width=\"24px\">\n",
              "    <path d=\"M0 0h24v24H0V0z\" fill=\"none\"/>\n",
              "    <path d=\"M18.56 5.44l.94 2.06.94-2.06 2.06-.94-2.06-.94-.94-2.06-.94 2.06-2.06.94zm-11 1L8.5 8.5l.94-2.06 2.06-.94-2.06-.94L8.5 2.5l-.94 2.06-2.06.94zm10 10l.94 2.06.94-2.06 2.06-.94-2.06-.94-.94-2.06-.94 2.06-2.06.94z\"/><path d=\"M17.41 7.96l-1.37-1.37c-.4-.4-.92-.59-1.43-.59-.52 0-1.04.2-1.43.59L10.3 9.45l-7.72 7.72c-.78.78-.78 2.05 0 2.83L4 21.41c.39.39.9.59 1.41.59.51 0 1.02-.2 1.41-.59l7.78-7.78 2.81-2.81c.8-.78.8-2.07 0-2.86zM5.41 20L4 18.59l7.72-7.72 1.47 1.35L5.41 20z\"/>\n",
              "  </svg>\n",
              "      </button>\n",
              "      \n",
              "  <style>\n",
              "    .colab-df-container {\n",
              "      display:flex;\n",
              "      flex-wrap:wrap;\n",
              "      gap: 12px;\n",
              "    }\n",
              "\n",
              "    .colab-df-convert {\n",
              "      background-color: #E8F0FE;\n",
              "      border: none;\n",
              "      border-radius: 50%;\n",
              "      cursor: pointer;\n",
              "      display: none;\n",
              "      fill: #1967D2;\n",
              "      height: 32px;\n",
              "      padding: 0 0 0 0;\n",
              "      width: 32px;\n",
              "    }\n",
              "\n",
              "    .colab-df-convert:hover {\n",
              "      background-color: #E2EBFA;\n",
              "      box-shadow: 0px 1px 2px rgba(60, 64, 67, 0.3), 0px 1px 3px 1px rgba(60, 64, 67, 0.15);\n",
              "      fill: #174EA6;\n",
              "    }\n",
              "\n",
              "    [theme=dark] .colab-df-convert {\n",
              "      background-color: #3B4455;\n",
              "      fill: #D2E3FC;\n",
              "    }\n",
              "\n",
              "    [theme=dark] .colab-df-convert:hover {\n",
              "      background-color: #434B5C;\n",
              "      box-shadow: 0px 1px 3px 1px rgba(0, 0, 0, 0.15);\n",
              "      filter: drop-shadow(0px 1px 2px rgba(0, 0, 0, 0.3));\n",
              "      fill: #FFFFFF;\n",
              "    }\n",
              "  </style>\n",
              "\n",
              "      <script>\n",
              "        const buttonEl =\n",
              "          document.querySelector('#df-ba5cd6fe-62ee-46f1-bf1f-4b001cecf96e button.colab-df-convert');\n",
              "        buttonEl.style.display =\n",
              "          google.colab.kernel.accessAllowed ? 'block' : 'none';\n",
              "\n",
              "        async function convertToInteractive(key) {\n",
              "          const element = document.querySelector('#df-ba5cd6fe-62ee-46f1-bf1f-4b001cecf96e');\n",
              "          const dataTable =\n",
              "            await google.colab.kernel.invokeFunction('convertToInteractive',\n",
              "                                                     [key], {});\n",
              "          if (!dataTable) return;\n",
              "\n",
              "          const docLinkHtml = 'Like what you see? Visit the ' +\n",
              "            '<a target=\"_blank\" href=https://colab.research.google.com/notebooks/data_table.ipynb>data table notebook</a>'\n",
              "            + ' to learn more about interactive tables.';\n",
              "          element.innerHTML = '';\n",
              "          dataTable['output_type'] = 'display_data';\n",
              "          await google.colab.output.renderOutput(dataTable, element);\n",
              "          const docLink = document.createElement('div');\n",
              "          docLink.innerHTML = docLinkHtml;\n",
              "          element.appendChild(docLink);\n",
              "        }\n",
              "      </script>\n",
              "    </div>\n",
              "  </div>\n",
              "  "
            ]
          },
          "metadata": {},
          "execution_count": 78
        }
      ]
    },
    {
      "cell_type": "code",
      "source": [
        "#Yearly end frequency for max value\n",
        "df2.resample(rule='A').max()['Close'].plot()\n",
        "#Yearly end frequency for min value\n",
        "df2.resample(rule='A').min()['Close'].plot()"
      ],
      "metadata": {
        "id": "5FjSpL1p001j",
        "outputId": "064294c6-ee76-4dce-f90f-6ed3dcbcc865",
        "colab": {
          "base_uri": "https://localhost:8080/",
          "height": 298
        }
      },
      "execution_count": null,
      "outputs": [
        {
          "output_type": "execute_result",
          "data": {
            "text/plain": [
              "<matplotlib.axes._subplots.AxesSubplot at 0x7f376d240d30>"
            ]
          },
          "metadata": {},
          "execution_count": 75
        },
        {
          "output_type": "display_data",
          "data": {
            "text/plain": [
              "<Figure size 432x288 with 1 Axes>"
            ],
            "image/png": "[encoded data removed]"
          },
          "metadata": {
            "needs_background": "light"
          }
        }
      ]
    },
    {
      "cell_type": "code",
      "source": [
        "df2['Close'].resample(rule='A').mean().plot(kind=\"bar\")"
      ],
      "metadata": {
        "id": "YBOWuYRfYhMJ",
        "outputId": "cd89c772-5f05-415a-fe8f-4d8baa91d5e6",
        "colab": {
          "base_uri": "https://localhost:8080/",
          "height": 428
        }
      },
      "execution_count": null,
      "outputs": [
        {
          "output_type": "execute_result",
          "data": {
            "text/plain": [
              "<matplotlib.axes._subplots.AxesSubplot at 0x7f376d67ef10>"
            ]
          },
          "metadata": {},
          "execution_count": 55
        },
        {
          "output_type": "display_data",
          "data": {
            "text/plain": [
              "<Figure size 432x288 with 1 Axes>"
            ],
            "image/png": "[encoded data removed]"
          },
          "metadata": {
            "needs_background": "light"
          }
        }
      ]
    },
    {
      "cell_type": "markdown",
      "source": [
        "**2) Quaterly End Frequency of the closing price**"
      ],
      "metadata": {
        "id": "_RUysDwNVoQq"
      }
    },
    {
      "cell_type": "markdown",
      "source": [
        "This plot helps us visualize the max and min values of quaterly year helping us\n",
        "infering that:\n",
        "\n",
        "1. Year 2021 has the high maximum price as well as high minimum price compared to other years\n",
        "2. From year 2019 to 2020 the max and min values of Eth are near but after a gap is visible for the closing price."
      ],
      "metadata": {
        "id": "Db8xamTwlkV-"
      }
    },
    {
      "cell_type": "code",
      "source": [
        "df2.resample(rule=\"QS\").max()"
      ],
      "metadata": {
        "id": "6f4RWRuM8iVw",
        "outputId": "56db1c30-37a2-4d00-8ce0-6b7a0b1398b4",
        "colab": {
          "base_uri": "https://localhost:8080/",
          "height": 739
        }
      },
      "execution_count": null,
      "outputs": [
        {
          "output_type": "execute_result",
          "data": {
            "text/plain": [
              "                                  Open         High          Low        Close  \\\n",
              "Date                                                                            \n",
              "2017-10-01 00:00:00+00:00   827.515991   881.943970   792.689026   826.822998   \n",
              "2018-01-01 00:00:00+00:00  1397.479980  1432.880005  1290.599976  1396.420044   \n",
              "2018-04-01 00:00:00+00:00   816.088013   835.057007   784.237000   816.119995   \n",
              "2018-07-01 00:00:00+00:00   500.838013   513.432983   488.416992   501.002014   \n",
              "2018-10-01 00:00:00+00:00   233.220001   234.145004   226.945007   230.768005   \n",
              "2019-01-01 00:00:00+00:00   158.902405   165.549622   154.337418   158.795425   \n",
              "2019-04-01 00:00:00+00:00   336.959900   361.398682   315.954865   336.753174   \n",
              "2019-07-01 00:00:00+00:00   313.325165   318.223114   305.285828   313.251404   \n",
              "2019-10-01 00:00:00+00:00   193.191071   195.942505   188.667679   193.293259   \n",
              "2020-01-01 00:00:00+00:00   284.561310   287.123688   264.279663   284.217499   \n",
              "2020-04-01 00:00:00+00:00   247.548538   252.222000   242.819748   247.444946   \n",
              "2020-07-01 00:00:00+00:00   477.007874   487.211884   432.079193   477.051910   \n",
              "2020-10-01 00:00:00+00:00   751.626648   754.303223   726.511902   751.618958   \n",
              "2021-01-01 00:00:00+00:00  1959.902954  2036.286499  1896.684448  1960.164795   \n",
              "2021-04-01 00:00:00+00:00  4174.635742  4362.350586  3785.848633  4168.701172   \n",
              "2021-07-01 00:00:00+00:00  3951.520752  4022.469238  3868.994385  3952.133545   \n",
              "2021-10-01 00:00:00+00:00  4810.071289  4891.704590  4718.039062  4812.087402   \n",
              "2022-01-01 00:00:00+00:00  3829.535645  3876.785156  3727.357422  3829.564941   \n",
              "2022-04-01 00:00:00+00:00  3522.364990  3573.960205  3442.000244  3522.833496   \n",
              "2022-07-01 00:00:00+00:00  1981.782471  2022.791504  1948.595215  1981.336548   \n",
              "2022-10-01 00:00:00+00:00  1645.156494  1661.334717  1625.964233  1645.093384   \n",
              "\n",
              "                                Volume  \n",
              "Date                                    \n",
              "2017-10-01 00:00:00+00:00   5179829760  \n",
              "2018-01-01 00:00:00+00:00   9214950400  \n",
              "2018-04-01 00:00:00+00:00   4316120064  \n",
              "2018-07-01 00:00:00+00:00   2836200000  \n",
              "2018-10-01 00:00:00+00:00   4370343387  \n",
              "2019-01-01 00:00:00+00:00   5957715043  \n",
              "2019-04-01 00:00:00+00:00  18661465873  \n",
              "2019-07-01 00:00:00+00:00  11757739233  \n",
              "2019-10-01 00:00:00+00:00  13831784986  \n",
              "2020-01-01 00:00:00+00:00  27864623061  \n",
              "2020-04-01 00:00:00+00:00  28089191904  \n",
              "2020-07-01 00:00:00+00:00  31421134556  \n",
              "2020-10-01 00:00:00+00:00  31104004592  \n",
              "2021-01-01 00:00:00+00:00  60733630300  \n",
              "2021-04-01 00:00:00+00:00  84482912776  \n",
              "2021-07-01 00:00:00+00:00  39131346397  \n",
              "2021-10-01 00:00:00+00:00  38478999182  \n",
              "2022-01-01 00:00:00+00:00  29312342666  \n",
              "2022-04-01 00:00:00+00:00  45743399154  \n",
              "2022-07-01 00:00:00+00:00  27753529276  \n",
              "2022-10-01 00:00:00+00:00  42048003440  "
            ],
            "text/html": [
              "\n",
              "  <div id=\"df-096fad58-099c-49bb-b0a7-7c09b0dbabea\">\n",
              "    <div class=\"colab-df-container\">\n",
              "      <div>\n",
              "<style scoped>\n",
              "    .dataframe tbody tr th:only-of-type {\n",
              "        vertical-align: middle;\n",
              "    }\n",
              "\n",
              "    .dataframe tbody tr th {\n",
              "        vertical-align: top;\n",
              "    }\n",
              "\n",
              "    .dataframe thead th {\n",
              "        text-align: right;\n",
              "    }\n",
              "</style>\n",
              "<table border=\"1\" class=\"dataframe\">\n",
              "  <thead>\n",
              "    <tr style=\"text-align: right;\">\n",
              "      <th></th>\n",
              "      <th>Open</th>\n",
              "      <th>High</th>\n",
              "      <th>Low</th>\n",
              "      <th>Close</th>\n",
              "      <th>Volume</th>\n",
              "    </tr>\n",
              "    <tr>\n",
              "      <th>Date</th>\n",
              "      <th></th>\n",
              "      <th></th>\n",
              "      <th></th>\n",
              "      <th></th>\n",
              "      <th></th>\n",
              "    </tr>\n",
              "  </thead>\n",
              "  <tbody>\n",
              "    <tr>\n",
              "      <th>2017-10-01 00:00:00+00:00</th>\n",
              "      <td>827.515991</td>\n",
              "      <td>881.943970</td>\n",
              "      <td>792.689026</td>\n",
              "      <td>826.822998</td>\n",
              "      <td>5179829760</td>\n",
              "    </tr>\n",
              "    <tr>\n",
              "      <th>2018-01-01 00:00:00+00:00</th>\n",
              "      <td>1397.479980</td>\n",
              "      <td>1432.880005</td>\n",
              "      <td>1290.599976</td>\n",
              "      <td>1396.420044</td>\n",
              "      <td>9214950400</td>\n",
              "    </tr>\n",
              "    <tr>\n",
              "      <th>2018-04-01 00:00:00+00:00</th>\n",
              "      <td>816.088013</td>\n",
              "      <td>835.057007</td>\n",
              "      <td>784.237000</td>\n",
              "      <td>816.119995</td>\n",
              "      <td>4316120064</td>\n",
              "    </tr>\n",
              "    <tr>\n",
              "      <th>2018-07-01 00:00:00+00:00</th>\n",
              "      <td>500.838013</td>\n",
              "      <td>513.432983</td>\n",
              "      <td>488.416992</td>\n",
              "      <td>501.002014</td>\n",
              "      <td>2836200000</td>\n",
              "    </tr>\n",
              "    <tr>\n",
              "      <th>2018-10-01 00:00:00+00:00</th>\n",
              "      <td>233.220001</td>\n",
              "      <td>234.145004</td>\n",
              "      <td>226.945007</td>\n",
              "      <td>230.768005</td>\n",
              "      <td>4370343387</td>\n",
              "    </tr>\n",
              "    <tr>\n",
              "      <th>2019-01-01 00:00:00+00:00</th>\n",
              "      <td>158.902405</td>\n",
              "      <td>165.549622</td>\n",
              "      <td>154.337418</td>\n",
              "      <td>158.795425</td>\n",
              "      <td>5957715043</td>\n",
              "    </tr>\n",
              "    <tr>\n",
              "      <th>2019-04-01 00:00:00+00:00</th>\n",
              "      <td>336.959900</td>\n",
              "      <td>361.398682</td>\n",
              "      <td>315.954865</td>\n",
              "      <td>336.753174</td>\n",
              "      <td>18661465873</td>\n",
              "    </tr>\n",
              "    <tr>\n",
              "      <th>2019-07-01 00:00:00+00:00</th>\n",
              "      <td>313.325165</td>\n",
              "      <td>318.223114</td>\n",
              "      <td>305.285828</td>\n",
              "      <td>313.251404</td>\n",
              "      <td>11757739233</td>\n",
              "    </tr>\n",
              "    <tr>\n",
              "      <th>2019-10-01 00:00:00+00:00</th>\n",
              "      <td>193.191071</td>\n",
              "      <td>195.942505</td>\n",
              "      <td>188.667679</td>\n",
              "      <td>193.293259</td>\n",
              "      <td>13831784986</td>\n",
              "    </tr>\n",
              "    <tr>\n",
              "      <th>2020-01-01 00:00:00+00:00</th>\n",
              "      <td>284.561310</td>\n",
              "      <td>287.123688</td>\n",
              "      <td>264.279663</td>\n",
              "      <td>284.217499</td>\n",
              "      <td>27864623061</td>\n",
              "    </tr>\n",
              "    <tr>\n",
              "      <th>2020-04-01 00:00:00+00:00</th>\n",
              "      <td>247.548538</td>\n",
              "      <td>252.222000</td>\n",
              "      <td>242.819748</td>\n",
              "      <td>247.444946</td>\n",
              "      <td>28089191904</td>\n",
              "    </tr>\n",
              "    <tr>\n",
              "      <th>2020-07-01 00:00:00+00:00</th>\n",
              "      <td>477.007874</td>\n",
              "      <td>487.211884</td>\n",
              "      <td>432.079193</td>\n",
              "      <td>477.051910</td>\n",
              "      <td>31421134556</td>\n",
              "    </tr>\n",
              "    <tr>\n",
              "      <th>2020-10-01 00:00:00+00:00</th>\n",
              "      <td>751.626648</td>\n",
              "      <td>754.303223</td>\n",
              "      <td>726.511902</td>\n",
              "      <td>751.618958</td>\n",
              "      <td>31104004592</td>\n",
              "    </tr>\n",
              "    <tr>\n",
              "      <th>2021-01-01 00:00:00+00:00</th>\n",
              "      <td>1959.902954</td>\n",
              "      <td>2036.286499</td>\n",
              "      <td>1896.684448</td>\n",
              "      <td>1960.164795</td>\n",
              "      <td>60733630300</td>\n",
              "    </tr>\n",
              "    <tr>\n",
              "      <th>2021-04-01 00:00:00+00:00</th>\n",
              "      <td>4174.635742</td>\n",
              "      <td>4362.350586</td>\n",
              "      <td>3785.848633</td>\n",
              "      <td>4168.701172</td>\n",
              "      <td>84482912776</td>\n",
              "    </tr>\n",
              "    <tr>\n",
              "      <th>2021-07-01 00:00:00+00:00</th>\n",
              "      <td>3951.520752</td>\n",
              "      <td>4022.469238</td>\n",
              "      <td>3868.994385</td>\n",
              "      <td>3952.133545</td>\n",
              "      <td>39131346397</td>\n",
              "    </tr>\n",
              "    <tr>\n",
              "      <th>2021-10-01 00:00:00+00:00</th>\n",
              "      <td>4810.071289</td>\n",
              "      <td>4891.704590</td>\n",
              "      <td>4718.039062</td>\n",
              "      <td>4812.087402</td>\n",
              "      <td>38478999182</td>\n",
              "    </tr>\n",
              "    <tr>\n",
              "      <th>2022-01-01 00:00:00+00:00</th>\n",
              "      <td>3829.535645</td>\n",
              "      <td>3876.785156</td>\n",
              "      <td>3727.357422</td>\n",
              "      <td>3829.564941</td>\n",
              "      <td>29312342666</td>\n",
              "    </tr>\n",
              "    <tr>\n",
              "      <th>2022-04-01 00:00:00+00:00</th>\n",
              "      <td>3522.364990</td>\n",
              "      <td>3573.960205</td>\n",
              "      <td>3442.000244</td>\n",
              "      <td>3522.833496</td>\n",
              "      <td>45743399154</td>\n",
              "    </tr>\n",
              "    <tr>\n",
              "      <th>2022-07-01 00:00:00+00:00</th>\n",
              "      <td>1981.782471</td>\n",
              "      <td>2022.791504</td>\n",
              "      <td>1948.595215</td>\n",
              "      <td>1981.336548</td>\n",
              "      <td>27753529276</td>\n",
              "    </tr>\n",
              "    <tr>\n",
              "      <th>2022-10-01 00:00:00+00:00</th>\n",
              "      <td>1645.156494</td>\n",
              "      <td>1661.334717</td>\n",
              "      <td>1625.964233</td>\n",
              "      <td>1645.093384</td>\n",
              "      <td>42048003440</td>\n",
              "    </tr>\n",
              "  </tbody>\n",
              "</table>\n",
              "</div>\n",
              "      <button class=\"colab-df-convert\" onclick=\"convertToInteractive('df-096fad58-099c-49bb-b0a7-7c09b0dbabea')\"\n",
              "              title=\"Convert this dataframe to an interactive table.\"\n",
              "              style=\"display:none;\">\n",
              "        \n",
              "  <svg xmlns=\"http://www.w3.org/2000/svg\" height=\"24px\"viewBox=\"0 0 24 24\"\n",
              "       width=\"24px\">\n",
              "    <path d=\"M0 0h24v24H0V0z\" fill=\"none\"/>\n",
              "    <path d=\"M18.56 5.44l.94 2.06.94-2.06 2.06-.94-2.06-.94-.94-2.06-.94 2.06-2.06.94zm-11 1L8.5 8.5l.94-2.06 2.06-.94-2.06-.94L8.5 2.5l-.94 2.06-2.06.94zm10 10l.94 2.06.94-2.06 2.06-.94-2.06-.94-.94-2.06-.94 2.06-2.06.94z\"/><path d=\"M17.41 7.96l-1.37-1.37c-.4-.4-.92-.59-1.43-.59-.52 0-1.04.2-1.43.59L10.3 9.45l-7.72 7.72c-.78.78-.78 2.05 0 2.83L4 21.41c.39.39.9.59 1.41.59.51 0 1.02-.2 1.41-.59l7.78-7.78 2.81-2.81c.8-.78.8-2.07 0-2.86zM5.41 20L4 18.59l7.72-7.72 1.47 1.35L5.41 20z\"/>\n",
              "  </svg>\n",
              "      </button>\n",
              "      \n",
              "  <style>\n",
              "    .colab-df-container {\n",
              "      display:flex;\n",
              "      flex-wrap:wrap;\n",
              "      gap: 12px;\n",
              "    }\n",
              "\n",
              "    .colab-df-convert {\n",
              "      background-color: #E8F0FE;\n",
              "      border: none;\n",
              "      border-radius: 50%;\n",
              "      cursor: pointer;\n",
              "      display: none;\n",
              "      fill: #1967D2;\n",
              "      height: 32px;\n",
              "      padding: 0 0 0 0;\n",
              "      width: 32px;\n",
              "    }\n",
              "\n",
              "    .colab-df-convert:hover {\n",
              "      background-color: #E2EBFA;\n",
              "      box-shadow: 0px 1px 2px rgba(60, 64, 67, 0.3), 0px 1px 3px 1px rgba(60, 64, 67, 0.15);\n",
              "      fill: #174EA6;\n",
              "    }\n",
              "\n",
              "    [theme=dark] .colab-df-convert {\n",
              "      background-color: #3B4455;\n",
              "      fill: #D2E3FC;\n",
              "    }\n",
              "\n",
              "    [theme=dark] .colab-df-convert:hover {\n",
              "      background-color: #434B5C;\n",
              "      box-shadow: 0px 1px 3px 1px rgba(0, 0, 0, 0.15);\n",
              "      filter: drop-shadow(0px 1px 2px rgba(0, 0, 0, 0.3));\n",
              "      fill: #FFFFFF;\n",
              "    }\n",
              "  </style>\n",
              "\n",
              "      <script>\n",
              "        const buttonEl =\n",
              "          document.querySelector('#df-096fad58-099c-49bb-b0a7-7c09b0dbabea button.colab-df-convert');\n",
              "        buttonEl.style.display =\n",
              "          google.colab.kernel.accessAllowed ? 'block' : 'none';\n",
              "\n",
              "        async function convertToInteractive(key) {\n",
              "          const element = document.querySelector('#df-096fad58-099c-49bb-b0a7-7c09b0dbabea');\n",
              "          const dataTable =\n",
              "            await google.colab.kernel.invokeFunction('convertToInteractive',\n",
              "                                                     [key], {});\n",
              "          if (!dataTable) return;\n",
              "\n",
              "          const docLinkHtml = 'Like what you see? Visit the ' +\n",
              "            '<a target=\"_blank\" href=https://colab.research.google.com/notebooks/data_table.ipynb>data table notebook</a>'\n",
              "            + ' to learn more about interactive tables.';\n",
              "          element.innerHTML = '';\n",
              "          dataTable['output_type'] = 'display_data';\n",
              "          await google.colab.output.renderOutput(dataTable, element);\n",
              "          const docLink = document.createElement('div');\n",
              "          docLink.innerHTML = docLinkHtml;\n",
              "          element.appendChild(docLink);\n",
              "        }\n",
              "      </script>\n",
              "    </div>\n",
              "  </div>\n",
              "  "
            ]
          },
          "metadata": {},
          "execution_count": 79
        }
      ]
    },
    {
      "cell_type": "code",
      "source": [
        "#Quaterly end frequency for max value\n",
        "df2.resample(rule='QS').max()['Close'].plot()\n",
        "#Quaterly end frequency for min value\n",
        "df2.resample(rule='QS').min()['Close'].plot()"
      ],
      "metadata": {
        "id": "WE4GViWAVdDp",
        "outputId": "ccc6c6c0-0f5d-488a-b7d9-8ae45b414e8e",
        "colab": {
          "base_uri": "https://localhost:8080/",
          "height": 298
        }
      },
      "execution_count": null,
      "outputs": [
        {
          "output_type": "execute_result",
          "data": {
            "text/plain": [
              "<matplotlib.axes._subplots.AxesSubplot at 0x7f376d653d90>"
            ]
          },
          "metadata": {},
          "execution_count": 56
        },
        {
          "output_type": "display_data",
          "data": {
            "text/plain": [
              "<Figure size 432x288 with 1 Axes>"
            ],
            "image/png": "[encoded data removed]"
          },
          "metadata": {
            "needs_background": "light"
          }
        }
      ]
    },
    {
      "cell_type": "code",
      "source": [
        "df2['Close'].resample(rule='QS').mean().plot(kind=\"bar\")"
      ],
      "metadata": {
        "id": "p58X9XuaYk2L",
        "outputId": "8dc95186-07ab-495d-a0b7-a5e3442eed4f",
        "colab": {
          "base_uri": "https://localhost:8080/",
          "height": 428
        }
      },
      "execution_count": null,
      "outputs": [
        {
          "output_type": "execute_result",
          "data": {
            "text/plain": [
              "<matplotlib.axes._subplots.AxesSubplot at 0x7f376d6ddee0>"
            ]
          },
          "metadata": {},
          "execution_count": 57
        },
        {
          "output_type": "display_data",
          "data": {
            "text/plain": [
              "<Figure size 432x288 with 1 Axes>"
            ],
            "image/png": "[encoded data removed]"
          },
          "metadata": {
            "needs_background": "light"
          }
        }
      ]
    },
    {
      "cell_type": "markdown",
      "source": [
        "**3) Monthly end frequency of the closing price**"
      ],
      "metadata": {
        "id": "NFjRCQ3tZAbf"
      }
    },
    {
      "cell_type": "markdown",
      "source": [
        "This plot helps us visualize the max and min values of monthly helping us\n",
        "infering that:\n",
        "\n",
        "1. Year 2021 has the high maximum price and 2018 has high minimum price compared to other years\n",
        "2. From year 2019 to 2020 the max and min values of Eth closing price are near."
      ],
      "metadata": {
        "id": "UH4AWonVpwLb"
      }
    },
    {
      "cell_type": "code",
      "source": [
        "#Monthly end frequency for max value\n",
        "df2.resample(rule='M').max()['Close'].plot()\n",
        "#Monthly end frequency for min value\n",
        "df2.resample(rule='M').min()['Close'].plot()"
      ],
      "metadata": {
        "id": "x2iVqsZWY9SG",
        "outputId": "9a48ae4c-178d-4172-e0ba-c65ce359638c",
        "colab": {
          "base_uri": "https://localhost:8080/",
          "height": 298
        }
      },
      "execution_count": null,
      "outputs": [
        {
          "output_type": "execute_result",
          "data": {
            "text/plain": [
              "<matplotlib.axes._subplots.AxesSubplot at 0x7f376d4fe0d0>"
            ]
          },
          "metadata": {},
          "execution_count": 58
        },
        {
          "output_type": "display_data",
          "data": {
            "text/plain": [
              "<Figure size 432x288 with 1 Axes>"
            ],
            "image/png": "[encoded data removed]"
          },
          "metadata": {
            "needs_background": "light"
          }
        }
      ]
    },
    {
      "cell_type": "code",
      "source": [
        "df2['Close'].resample(rule='M').mean().plot(kind=\"bar\",figsize=(15,6))"
      ],
      "metadata": {
        "id": "PER8Tv-uZO37",
        "outputId": "7e68a7f3-1a45-4496-c764-9751eebd4eb9",
        "colab": {
          "base_uri": "https://localhost:8080/",
          "height": 537
        }
      },
      "execution_count": null,
      "outputs": [
        {
          "output_type": "execute_result",
          "data": {
            "text/plain": [
              "<matplotlib.axes._subplots.AxesSubplot at 0x7f376d472100>"
            ]
          },
          "metadata": {},
          "execution_count": 59
        },
        {
          "output_type": "display_data",
          "data": {
            "text/plain": [
              "<Figure size 1080x432 with 1 Axes>"
            ],
            "image/png": "[encoded data removed]"
          },
          "metadata": {
            "needs_background": "light"
          }
        }
      ]
    },
    {
      "cell_type": "markdown",
      "source": [
        "# Stationarity"
      ],
      "metadata": {
        "id": "7VUfMY9yrzin"
      }
    },
    {
      "cell_type": "markdown",
      "source": [
        "a) Stationarity check"
      ],
      "metadata": {
        "id": "Q8FCGpPur9cV"
      }
    },
    {
      "cell_type": "code",
      "source": [
        "from statsmodels.tsa.stattools import adfuller\n",
        "def adf_test(series):\n",
        "    result=adfuller(series)\n",
        "    print('ADF Statistics: {}'.format(result[0]))\n",
        "    print('p- value: {}'.format(result[1]))\n",
        "    if result[1] <= 0.05:\n",
        "        print(\"strong evidence against the null hypothesis, reject the null hypothesis. Data has no unit root and is stationary\")\n",
        "    else:\n",
        "        print(\"weak evidence against null hypothesis, time series has a unit root, indicating it is non-stationary \")"
      ],
      "metadata": {
        "id": "0dteUzd2_MXv"
      },
      "execution_count": null,
      "outputs": []
    },
    {
      "cell_type": "code",
      "source": [
        "adf_test(df2['Close'])"
      ],
      "metadata": {
        "id": "hzj90E-Hys_J",
        "outputId": "477a4624-feda-4dae-d3bb-cd756679479c",
        "colab": {
          "base_uri": "https://localhost:8080/"
        }
      },
      "execution_count": null,
      "outputs": [
        {
          "output_type": "stream",
          "name": "stdout",
          "text": [
            "ADF Statistics: -1.408567664365911\n",
            "p- value: 0.5781618499447272\n",
            "weak evidence against null hypothesis, time series has a unit root, indicating it is non-stationary \n"
          ]
        }
      ]
    },
    {
      "cell_type": "code",
      "source": [],
      "metadata": {
        "id": "TK6klgKWsCEI"
      },
      "execution_count": null,
      "outputs": []
    },
    {
      "cell_type": "code",
      "source": [],
      "metadata": {
        "id": "BiumbCSJsCM6"
      },
      "execution_count": null,
      "outputs": []
    },
    {
      "cell_type": "code",
      "source": [],
      "metadata": {
        "id": "X4xKZZivsCUe"
      },
      "execution_count": null,
      "outputs": []
    }
  ]
}